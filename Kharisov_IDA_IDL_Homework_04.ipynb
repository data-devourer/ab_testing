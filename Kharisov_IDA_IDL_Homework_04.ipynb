{
  "metadata": {
    "kernelspec": {
      "name": "python3",
      "display_name": "Python 3",
      "language": "python"
    },
    "language_info": {
      "name": "python",
      "version": "3.10.14",
      "mimetype": "text/x-python",
      "codemirror_mode": {
        "name": "ipython",
        "version": 3
      },
      "pygments_lexer": "ipython3",
      "nbconvert_exporter": "python",
      "file_extension": ".py"
    },
    "accelerator": "GPU",
    "colab": {
      "gpuType": "T4",
      "provenance": [],
      "name": "Kharisov_IDA_IDL_Homework_04",
      "include_colab_link": true
    },
    "kaggle": {
      "accelerator": "none",
      "dataSources": [
        {
          "sourceId": 3136,
          "databundleVersionId": 26502,
          "sourceType": "competition"
        },
        {
          "sourceId": 8587,
          "databundleVersionId": 868304,
          "sourceType": "competition"
        },
        {
          "sourceId": 724749,
          "sourceType": "datasetVersion",
          "datasetId": 372519
        }
      ],
      "isInternetEnabled": true,
      "language": "python",
      "sourceType": "notebook",
      "isGpuEnabled": false
    }
  },
  "nbformat_minor": 0,
  "nbformat": 4,
  "cells": [
    {
      "cell_type": "markdown",
      "metadata": {
        "id": "view-in-github",
        "colab_type": "text"
      },
      "source": [
        "<a href=\"https://colab.research.google.com/github/data-devourer/ab_testing/blob/main/Kharisov_IDA_IDL_Homework_04.ipynb\" target=\"_parent\"><img src=\"https://colab.research.google.com/assets/colab-badge.svg\" alt=\"Open In Colab\"/></a>"
      ]
    },
    {
      "source": [
        "# IMPORTANT: SOME KAGGLE DATA SOURCES ARE PRIVATE\n",
        "# RUN THIS CELL IN ORDER TO IMPORT YOUR KAGGLE DATA SOURCES.\n",
        "import kagglehub\n",
        "kagglehub.login()\n"
      ],
      "metadata": {
        "id": "AgRPEsIn7Dk-"
      },
      "cell_type": "code",
      "outputs": [],
      "execution_count": null
    },
    {
      "source": [
        "# IMPORTANT: RUN THIS CELL IN ORDER TO IMPORT YOUR KAGGLE DATA SOURCES,\n",
        "# THEN FEEL FREE TO DELETE THIS CELL.\n",
        "# NOTE: THIS NOTEBOOK ENVIRONMENT DIFFERS FROM KAGGLE'S PYTHON\n",
        "# ENVIRONMENT SO THERE MAY BE MISSING LIBRARIES USED BY YOUR\n",
        "# NOTEBOOK.\n",
        "\n",
        "titanic_path = kagglehub.competition_download('titanic')\n",
        "competitive_data_science_predict_future_sales_path = kagglehub.competition_download('competitive-data-science-predict-future-sales')\n",
        "faressayah_stanford_open_policing_project_path = kagglehub.dataset_download('faressayah/stanford-open-policing-project')\n",
        "\n",
        "print('Data source import complete.')\n"
      ],
      "metadata": {
        "id": "rsEDq2gl7DlA"
      },
      "cell_type": "code",
      "outputs": [],
      "execution_count": null
    },
    {
      "cell_type": "markdown",
      "source": [
        "<center>\n",
        "\n",
        "<img src=\"https://raw.githubusercontent.com/dvgodoy/PyTorch101_ODSC_Europe2020/master/images/linear_dogs.jpg\" width=\"800\">\n",
        "\n",
        "\n",
        "\n",
        "# Основы глубинного обучения: домашнее задание 4\n",
        "\n",
        "</center>"
      ],
      "metadata": {
        "id": "N0MMALtdLU6F"
      }
    },
    {
      "cell_type": "markdown",
      "source": [
        "**ФИО:** Харисов Ильнур Шаукатович\n",
        "\n",
        "**Забавный факт о себе:** Я не Марк Блуменау"
      ],
      "metadata": {
        "id": "Lp2Uf8PGM_zP"
      }
    },
    {
      "cell_type": "markdown",
      "source": [
        "## Общая информация\n",
        "\n",
        "\n",
        "\n",
        "__Дата выдачи:__ 26.11.2024\n",
        "\n",
        "\n",
        "\n",
        "__Мягкий дедлайн:__ 23:59MSK 10.12.2024\n",
        "\n",
        "\n",
        "\n",
        "__Жесткий дедлайн:__ 23:59MSK 13.12.2024"
      ],
      "metadata": {
        "id": "W2LjTioKM_zP"
      }
    },
    {
      "cell_type": "markdown",
      "source": [
        "## Оценивание и штрафы\n",
        "\n",
        "\n",
        "\n",
        "Каждая из задач имеет определенную «стоимость» (указана в скобках около задачи). Максимально допустимая оценка за работу — 10 баллов + 2 бонусных балла.\n",
        "\n",
        "\n",
        "\n",
        "**Дисклеймер:** Задание выполняется самостоятельно. «Похожие» решения считаются плагиатом и все задействованные студенты (в том числе те, у кого списали) не могут получить за него больше 0 баллов. Если вы нашли решение какого-то из заданий (или его часть) в открытом источнике, необходимо указать ссылку на этот источник (скорее всего вы будете не единственным, кто это нашел, поэтому чтобы исключить подозрение в плагиате, необходима ссылка на источник). Также помните, что простое копирование чужого кода не является самостоятельной работой."
      ],
      "metadata": {
        "id": "pGGDD519LWaa"
      }
    },
    {
      "cell_type": "code",
      "source": [
        "import pandas as pd\n",
        "import numpy as np\n",
        "import matplotlib.pyplot as plt\n",
        "import seaborn as sns\n",
        "from tqdm.notebook import tqdm"
      ],
      "metadata": {
        "id": "e88B7C_7M_zQ",
        "trusted": true,
        "execution": {
          "iopub.status.busy": "2024-12-07T16:14:42.542158Z",
          "iopub.execute_input": "2024-12-07T16:14:42.542455Z",
          "iopub.status.idle": "2024-12-07T16:14:42.546887Z",
          "shell.execute_reply.started": "2024-12-07T16:14:42.542426Z",
          "shell.execute_reply": "2024-12-07T16:14:42.545963Z"
        }
      },
      "outputs": [],
      "execution_count": null
    },
    {
      "cell_type": "code",
      "source": [
        "import torch\n",
        "device = torch.device('cuda:0' if torch.cuda.is_available() else 'cpu')\n",
        "device"
      ],
      "metadata": {
        "id": "nqB7HlFIM_zR",
        "outputId": "7c96af10-5910-4b34-ed0b-72c1df7b5803",
        "trusted": true,
        "execution": {
          "iopub.status.busy": "2024-12-07T16:14:42.571195Z",
          "iopub.execute_input": "2024-12-07T16:14:42.571624Z",
          "iopub.status.idle": "2024-12-07T16:14:42.584553Z",
          "shell.execute_reply.started": "2024-12-07T16:14:42.571572Z",
          "shell.execute_reply": "2024-12-07T16:14:42.583536Z"
        }
      },
      "outputs": [
        {
          "execution_count": 11,
          "output_type": "execute_result",
          "data": {
            "text/plain": "device(type='cpu')"
          },
          "metadata": {}
        }
      ],
      "execution_count": null
    },
    {
      "cell_type": "markdown",
      "source": [
        "# Описание данных\n",
        "\n",
        "\n",
        "\n",
        "Данные можно [скачать с гугл-диска.](https://drive.google.com/drive/folders/11oCcLplWtp_qm-WuEbfCFP_Mz5K_z3ps?usp=sharing) Если вы делаете задание в колабе, то строчки ниже сами скачают вам данные.\n",
        "\n",
        "\n"
      ],
      "metadata": {
        "id": "GkjGmtWoM_zR"
      }
    },
    {
      "cell_type": "code",
      "source": [
        "pip install gdown"
      ],
      "metadata": {
        "trusted": true,
        "execution": {
          "iopub.status.busy": "2024-12-07T16:14:42.597325Z",
          "iopub.execute_input": "2024-12-07T16:14:42.597822Z",
          "iopub.status.idle": "2024-12-07T16:14:52.106088Z",
          "shell.execute_reply.started": "2024-12-07T16:14:42.597776Z",
          "shell.execute_reply": "2024-12-07T16:14:52.104697Z"
        },
        "id": "oypvChtC7DlD",
        "outputId": "c3ba3b7e-b981-4568-b8fa-3d6cacc080da"
      },
      "outputs": [
        {
          "name": "stdout",
          "text": "Requirement already satisfied: gdown in /opt/conda/lib/python3.10/site-packages (5.2.0)\nRequirement already satisfied: beautifulsoup4 in /opt/conda/lib/python3.10/site-packages (from gdown) (4.12.3)\nRequirement already satisfied: filelock in /opt/conda/lib/python3.10/site-packages (from gdown) (3.15.1)\nRequirement already satisfied: requests[socks] in /opt/conda/lib/python3.10/site-packages (from gdown) (2.32.3)\nRequirement already satisfied: tqdm in /opt/conda/lib/python3.10/site-packages (from gdown) (4.66.4)\nRequirement already satisfied: soupsieve>1.2 in /opt/conda/lib/python3.10/site-packages (from beautifulsoup4->gdown) (2.5)\nRequirement already satisfied: charset-normalizer<4,>=2 in /opt/conda/lib/python3.10/site-packages (from requests[socks]->gdown) (3.3.2)\nRequirement already satisfied: idna<4,>=2.5 in /opt/conda/lib/python3.10/site-packages (from requests[socks]->gdown) (3.7)\nRequirement already satisfied: urllib3<3,>=1.21.1 in /opt/conda/lib/python3.10/site-packages (from requests[socks]->gdown) (1.26.18)\nRequirement already satisfied: certifi>=2017.4.17 in /opt/conda/lib/python3.10/site-packages (from requests[socks]->gdown) (2024.6.2)\nRequirement already satisfied: PySocks!=1.5.7,>=1.5.6 in /opt/conda/lib/python3.10/site-packages (from requests[socks]->gdown) (1.7.1)\nNote: you may need to restart the kernel to use updated packages.\n",
          "output_type": "stream"
        }
      ],
      "execution_count": null
    },
    {
      "cell_type": "code",
      "source": [
        "import gdown\n",
        "\n",
        "url = \"https://drive.google.com/drive/folders/11oCcLplWtp_qm-WuEbfCFP_Mz5K_z3ps?usp=sharing\"\n",
        "gdown.download_folder(url, quiet=True, use_cookies=False)"
      ],
      "metadata": {
        "id": "e78uct9mO6ik",
        "outputId": "6ce2c30f-cd22-4c6e-ff37-90d99d5b3c82",
        "trusted": true,
        "execution": {
          "iopub.status.busy": "2024-12-07T16:14:53.216107Z",
          "iopub.execute_input": "2024-12-07T16:14:53.216388Z",
          "iopub.status.idle": "2024-12-07T16:15:17.83997Z",
          "shell.execute_reply.started": "2024-12-07T16:14:53.216361Z",
          "shell.execute_reply": "2024-12-07T16:15:17.838961Z"
        }
      },
      "outputs": [
        {
          "execution_count": 15,
          "output_type": "execute_result",
          "data": {
            "text/plain": "['/kaggle/working/news_data/ria_news.tsv',\n '/kaggle/working/news_data/vk_comments.tsv',\n '/kaggle/working/news_data/vk_news.tsv']"
          },
          "metadata": {}
        }
      ],
      "execution_count": null
    },
    {
      "cell_type": "markdown",
      "source": [
        "В таблице `ria_news.tsv`  лежат данные о новостях, вышедших на сайте РИА-НОВОСТИ с 15 марта 2018 года по 31 декабря 2018 года.\n",
        "\n",
        "\n",
        "\n",
        "- `href` - уникальный идентификатор новости (ссылка на неё)\n",
        "\n",
        "- `date` - дата публикации новости\n",
        "\n",
        "- `time` - время публикации новости\n",
        "\n",
        "- `title` - заголовок новости\n",
        "\n",
        "- `snippet` - краткое описание новости\n",
        "\n",
        "- `text` - текст новости\n",
        "\n",
        "- `category` - категория новости\n",
        "\n",
        "- `keywords` - ключевые слова (подкатегории новости)\n",
        "\n",
        "- `shows` - счётчик с числом просмотров новости на сайте (на момент парсинга)"
      ],
      "metadata": {
        "id": "fNAzGcglM_zS"
      }
    },
    {
      "cell_type": "code",
      "source": [
        "df_ria = pd.read_csv('news_data/ria_news.tsv', sep='\\t')\n",
        "df_ria = df_ria[~df_ria.tags.isnull()]\n",
        "\n",
        "print(df_ria.shape)\n",
        "df_ria.head()"
      ],
      "metadata": {
        "id": "U0-iSeRLM_zS",
        "outputId": "8eb3197b-d587-4ee9-f824-b19165342a57",
        "trusted": true,
        "execution": {
          "iopub.status.busy": "2024-12-07T16:15:17.84917Z",
          "iopub.execute_input": "2024-12-07T16:15:17.849456Z",
          "iopub.status.idle": "2024-12-07T16:15:33.609284Z",
          "shell.execute_reply.started": "2024-12-07T16:15:17.849423Z",
          "shell.execute_reply": "2024-12-07T16:15:33.608291Z"
        }
      },
      "outputs": [
        {
          "name": "stdout",
          "text": "(201708, 9)\n",
          "output_type": "stream"
        },
        {
          "execution_count": 17,
          "output_type": "execute_result",
          "data": {
            "text/plain": "                        href        date                    time  \\\n0  /20181231/1548961410.html  2018-12-31  31 декабря 2018, 23:52   \n1  /20181231/1548961364.html  2018-12-31  31 декабря 2018, 23:19   \n2  /20181231/1548961337.html  2018-12-31  31 декабря 2018, 23:12   \n3  /20181231/1548961304.html  2018-12-31  31 декабря 2018, 23:09   \n4  /20181231/1548961265.html  2018-12-31  31 декабря 2018, 23:07   \n\n                                               title  \\\n0  Нетаньяху не собирается в отставку в случае пр...   \n1  Макрон в новогоднем обращении затронул тему ре...   \n2  Аарон Рэмзи проведет переговоры с пятью топ-кл...   \n3  Гол Азмуна принес сборной Ирана победу над кат...   \n4  Пятая ракетка мира дель Потро пропустит Открыт...   \n\n                                             snippet  \\\n0  Премьер-министр Израиля Биньямин Нетаньяху не ...   \n1  Результат реформ не может быть мгновенным, зая...   \n2  Полузащитник лондонского \"Арсенала\" Аарон Рэмз...   \n3  Футболисты сборной Ирана одержали победу над к...   \n4  Аргентинский теннисист Хуан Мартин дель Потро ...   \n\n                                                text category  \\\n0  МОСКВА, 31 дек - РИА Новости. Премьер-министр ...   В мире   \n1  ПАРИЖ, 31 дек – РИА Новости. Результат реформ ...   В мире   \n2  МОСКВА, 31 дек - РИА Новости. Полузащитник лон...      NaN   \n3  МОСКВА, 31 дек - РИА Новости. Футболисты сборн...      NaN   \n4  МОСКВА, 31 дек - РИА Новости. Аргентинский тен...      NaN   \n\n                                     tags   shows  \n0     Биньямин Нетаньяху, Израиль, В мире   728.0  \n1       Эммануэль Макрон, Франция, В мире  3086.0  \n2                     ФК Арсенал (Лондон)   183.0  \n3  Сердар Азмун, Сборная Ирана по футболу    78.0  \n4                                  Теннис    79.0  ",
            "text/html": "<div>\n<style scoped>\n    .dataframe tbody tr th:only-of-type {\n        vertical-align: middle;\n    }\n\n    .dataframe tbody tr th {\n        vertical-align: top;\n    }\n\n    .dataframe thead th {\n        text-align: right;\n    }\n</style>\n<table border=\"1\" class=\"dataframe\">\n  <thead>\n    <tr style=\"text-align: right;\">\n      <th></th>\n      <th>href</th>\n      <th>date</th>\n      <th>time</th>\n      <th>title</th>\n      <th>snippet</th>\n      <th>text</th>\n      <th>category</th>\n      <th>tags</th>\n      <th>shows</th>\n    </tr>\n  </thead>\n  <tbody>\n    <tr>\n      <th>0</th>\n      <td>/20181231/1548961410.html</td>\n      <td>2018-12-31</td>\n      <td>31 декабря 2018, 23:52</td>\n      <td>Нетаньяху не собирается в отставку в случае пр...</td>\n      <td>Премьер-министр Израиля Биньямин Нетаньяху не ...</td>\n      <td>МОСКВА, 31 дек - РИА Новости. Премьер-министр ...</td>\n      <td>В мире</td>\n      <td>Биньямин Нетаньяху, Израиль, В мире</td>\n      <td>728.0</td>\n    </tr>\n    <tr>\n      <th>1</th>\n      <td>/20181231/1548961364.html</td>\n      <td>2018-12-31</td>\n      <td>31 декабря 2018, 23:19</td>\n      <td>Макрон в новогоднем обращении затронул тему ре...</td>\n      <td>Результат реформ не может быть мгновенным, зая...</td>\n      <td>ПАРИЖ, 31 дек – РИА Новости. Результат реформ ...</td>\n      <td>В мире</td>\n      <td>Эммануэль Макрон, Франция, В мире</td>\n      <td>3086.0</td>\n    </tr>\n    <tr>\n      <th>2</th>\n      <td>/20181231/1548961337.html</td>\n      <td>2018-12-31</td>\n      <td>31 декабря 2018, 23:12</td>\n      <td>Аарон Рэмзи проведет переговоры с пятью топ-кл...</td>\n      <td>Полузащитник лондонского \"Арсенала\" Аарон Рэмз...</td>\n      <td>МОСКВА, 31 дек - РИА Новости. Полузащитник лон...</td>\n      <td>NaN</td>\n      <td>ФК Арсенал (Лондон)</td>\n      <td>183.0</td>\n    </tr>\n    <tr>\n      <th>3</th>\n      <td>/20181231/1548961304.html</td>\n      <td>2018-12-31</td>\n      <td>31 декабря 2018, 23:09</td>\n      <td>Гол Азмуна принес сборной Ирана победу над кат...</td>\n      <td>Футболисты сборной Ирана одержали победу над к...</td>\n      <td>МОСКВА, 31 дек - РИА Новости. Футболисты сборн...</td>\n      <td>NaN</td>\n      <td>Сердар Азмун, Сборная Ирана по футболу</td>\n      <td>78.0</td>\n    </tr>\n    <tr>\n      <th>4</th>\n      <td>/20181231/1548961265.html</td>\n      <td>2018-12-31</td>\n      <td>31 декабря 2018, 23:07</td>\n      <td>Пятая ракетка мира дель Потро пропустит Открыт...</td>\n      <td>Аргентинский теннисист Хуан Мартин дель Потро ...</td>\n      <td>МОСКВА, 31 дек - РИА Новости. Аргентинский тен...</td>\n      <td>NaN</td>\n      <td>Теннис</td>\n      <td>79.0</td>\n    </tr>\n  </tbody>\n</table>\n</div>"
          },
          "metadata": {}
        }
      ],
      "execution_count": null
    },
    {
      "cell_type": "markdown",
      "source": [
        "Многие новостные агенства поддерживают странички в социальных сетях. Они постят туда самые сочные сюжеты. В таблице `vk_news.tsv` лежат данные о новостях, которые РИА запостили ВКонтакте в период времени с  `2017-09-29 01:28:55` по `2019-02-01 23:13:17`.\n",
        "\n",
        "\n",
        "\n",
        "- `id` - уникальный идентификатор поста\n",
        "\n",
        "- `href` - ссылка на сайт (если она была указана в посте)\n",
        "\n",
        "- `datetime` - дата и время публикации новости\n",
        "\n",
        "- `title` - заголовок новости\n",
        "\n",
        "- `text` - текст новости в социальной сети\n",
        "\n",
        "- `likes` - число лайков под постом\n",
        "\n",
        "- `comments` - число комментариев под постом"
      ],
      "metadata": {
        "id": "smOrAVujM_zS"
      }
    },
    {
      "cell_type": "code",
      "source": [
        "df_vk = pd.read_csv('news_data/vk_news.tsv', sep='\\t')\n",
        "df_vk['snippet'] = df_vk['text']\n",
        "df_vk.drop('text', axis=1, inplace=True)\n",
        "\n",
        "print(df_vk.shape)\n",
        "df_vk.head()"
      ],
      "metadata": {
        "id": "FFZHXKukM_zS",
        "outputId": "7da23095-710b-49c4-fa8c-f73a1294d4c7",
        "trusted": true,
        "execution": {
          "iopub.status.busy": "2024-12-07T16:15:35.335988Z",
          "iopub.execute_input": "2024-12-07T16:15:35.336286Z",
          "iopub.status.idle": "2024-12-07T16:15:35.490997Z",
          "shell.execute_reply.started": "2024-12-07T16:15:35.336258Z",
          "shell.execute_reply": "2024-12-07T16:15:35.490058Z"
        }
      },
      "outputs": [
        {
          "name": "stdout",
          "text": "(19928, 7)\n",
          "output_type": "stream"
        },
        {
          "execution_count": 19,
          "output_type": "execute_result",
          "data": {
            "text/plain": "         id                       href             datetime  \\\n0  24006362  /20190201/1550280358.html  2019-02-01 23:13:17   \n1  24006240  /20190201/1550268781.html  2019-02-01 22:38:41   \n2  24006100  /20190201/1550282212.html  2019-02-01 21:58:52   \n3  24005972  /20190202/1550283179.html  2019-02-01 21:27:06   \n4  24005764  /20190201/1550262848.html  2019-02-01 20:55:54   \n\n                                               title  likes  comments snippet  \n0  В ДНР заявили о задержании диверсантов, причас...     15        28     NaN  \n1  Житель Урала \"заминировал\" ТЦ из-за снятия  со...     32        42     NaN  \n2      В Черном море нашли \"потерянный флот Гитлера\"     84        23     NaN  \n3  В США освободили задержанную российскую актрис...     58        35     NaN  \n4  Толкнувший Скабееву депутат Рады заявил о гроз...     45       145     NaN  ",
            "text/html": "<div>\n<style scoped>\n    .dataframe tbody tr th:only-of-type {\n        vertical-align: middle;\n    }\n\n    .dataframe tbody tr th {\n        vertical-align: top;\n    }\n\n    .dataframe thead th {\n        text-align: right;\n    }\n</style>\n<table border=\"1\" class=\"dataframe\">\n  <thead>\n    <tr style=\"text-align: right;\">\n      <th></th>\n      <th>id</th>\n      <th>href</th>\n      <th>datetime</th>\n      <th>title</th>\n      <th>likes</th>\n      <th>comments</th>\n      <th>snippet</th>\n    </tr>\n  </thead>\n  <tbody>\n    <tr>\n      <th>0</th>\n      <td>24006362</td>\n      <td>/20190201/1550280358.html</td>\n      <td>2019-02-01 23:13:17</td>\n      <td>В ДНР заявили о задержании диверсантов, причас...</td>\n      <td>15</td>\n      <td>28</td>\n      <td>NaN</td>\n    </tr>\n    <tr>\n      <th>1</th>\n      <td>24006240</td>\n      <td>/20190201/1550268781.html</td>\n      <td>2019-02-01 22:38:41</td>\n      <td>Житель Урала \"заминировал\" ТЦ из-за снятия  со...</td>\n      <td>32</td>\n      <td>42</td>\n      <td>NaN</td>\n    </tr>\n    <tr>\n      <th>2</th>\n      <td>24006100</td>\n      <td>/20190201/1550282212.html</td>\n      <td>2019-02-01 21:58:52</td>\n      <td>В Черном море нашли \"потерянный флот Гитлера\"</td>\n      <td>84</td>\n      <td>23</td>\n      <td>NaN</td>\n    </tr>\n    <tr>\n      <th>3</th>\n      <td>24005972</td>\n      <td>/20190202/1550283179.html</td>\n      <td>2019-02-01 21:27:06</td>\n      <td>В США освободили задержанную российскую актрис...</td>\n      <td>58</td>\n      <td>35</td>\n      <td>NaN</td>\n    </tr>\n    <tr>\n      <th>4</th>\n      <td>24005764</td>\n      <td>/20190201/1550262848.html</td>\n      <td>2019-02-01 20:55:54</td>\n      <td>Толкнувший Скабееву депутат Рады заявил о гроз...</td>\n      <td>45</td>\n      <td>145</td>\n      <td>NaN</td>\n    </tr>\n  </tbody>\n</table>\n</div>"
          },
          "metadata": {}
        }
      ],
      "execution_count": null
    },
    {
      "cell_type": "markdown",
      "source": [
        "В таблице `vk_comments.tsv` лежат комментарии к новостям.\n",
        "\n",
        "\n",
        "\n",
        "- `id` - уникальный идентификатор комментария\n",
        "\n",
        "- `post_id` - идентификатор новости, под которой был оставлен комментарий\n",
        "\n",
        "- `datetime` - дата и время, когда был оставлен комментарий\n",
        "\n",
        "- `text` - текст комментария\n",
        "\n",
        "- `likes` - число лайков под комментарием"
      ],
      "metadata": {
        "id": "HFaQtcOVM_zT"
      }
    },
    {
      "cell_type": "code",
      "source": [
        "df_comments = pd.read_csv('news_data/vk_comments.tsv', sep='\\t')\n",
        "df_comments = df_comments[~df_comments.text.isnull()]\n",
        "\n",
        "print(df_comments.shape)\n",
        "df_comments.head()"
      ],
      "metadata": {
        "id": "HBJvrG6wM_zT",
        "outputId": "c7b02288-fa2d-4e9d-a7bc-803b0404b71f",
        "trusted": true,
        "execution": {
          "iopub.status.busy": "2024-12-07T16:15:44.283825Z",
          "iopub.execute_input": "2024-12-07T16:15:44.284139Z",
          "iopub.status.idle": "2024-12-07T16:16:00.518307Z",
          "shell.execute_reply.started": "2024-12-07T16:15:44.284113Z",
          "shell.execute_reply": "2024-12-07T16:16:00.517353Z"
        }
      },
      "outputs": [
        {
          "name": "stderr",
          "text": "/tmp/ipykernel_24/3104741690.py:1: DtypeWarning: Columns (0) have mixed types. Specify dtype option on import or set low_memory=False.\n  df_comments = pd.read_csv('news_data/vk_comments.tsv', sep='\\t')\n",
          "output_type": "stream"
        },
        {
          "name": "stdout",
          "text": "(2612629, 5)\n",
          "output_type": "stream"
        },
        {
          "execution_count": 21,
          "output_type": "execute_result",
          "data": {
            "text/plain": "           id     post_id             datetime  \\\n0  24006366.0  24006362.0  2019-02-01 23:14:14   \n1  24006370.0  24006362.0  2019-02-01 23:15:23   \n2  24006371.0  24006362.0  2019-02-01 23:16:21   \n3  24006374.0  24006362.0  2019-02-01 23:16:38   \n4  24006375.0  24006362.0  2019-02-01 23:16:40   \n\n                                                text  likes  \n0                                       ЧВК Вагнера?    5.0  \n1                [id4710641|Евгений], выздоравливай.    3.0  \n2  [id442655034|Андрей], искренне желаю этого все...    4.0  \n3                         Опять про Украину новости?    1.0  \n4                                      Че такое ДНР?    2.0  ",
            "text/html": "<div>\n<style scoped>\n    .dataframe tbody tr th:only-of-type {\n        vertical-align: middle;\n    }\n\n    .dataframe tbody tr th {\n        vertical-align: top;\n    }\n\n    .dataframe thead th {\n        text-align: right;\n    }\n</style>\n<table border=\"1\" class=\"dataframe\">\n  <thead>\n    <tr style=\"text-align: right;\">\n      <th></th>\n      <th>id</th>\n      <th>post_id</th>\n      <th>datetime</th>\n      <th>text</th>\n      <th>likes</th>\n    </tr>\n  </thead>\n  <tbody>\n    <tr>\n      <th>0</th>\n      <td>24006366.0</td>\n      <td>24006362.0</td>\n      <td>2019-02-01 23:14:14</td>\n      <td>ЧВК Вагнера?</td>\n      <td>5.0</td>\n    </tr>\n    <tr>\n      <th>1</th>\n      <td>24006370.0</td>\n      <td>24006362.0</td>\n      <td>2019-02-01 23:15:23</td>\n      <td>[id4710641|Евгений], выздоравливай.</td>\n      <td>3.0</td>\n    </tr>\n    <tr>\n      <th>2</th>\n      <td>24006371.0</td>\n      <td>24006362.0</td>\n      <td>2019-02-01 23:16:21</td>\n      <td>[id442655034|Андрей], искренне желаю этого все...</td>\n      <td>4.0</td>\n    </tr>\n    <tr>\n      <th>3</th>\n      <td>24006374.0</td>\n      <td>24006362.0</td>\n      <td>2019-02-01 23:16:38</td>\n      <td>Опять про Украину новости?</td>\n      <td>1.0</td>\n    </tr>\n    <tr>\n      <th>4</th>\n      <td>24006375.0</td>\n      <td>24006362.0</td>\n      <td>2019-02-01 23:16:40</td>\n      <td>Че такое ДНР?</td>\n      <td>2.0</td>\n    </tr>\n  </tbody>\n</table>\n</div>"
          },
          "metadata": {}
        }
      ],
      "execution_count": null
    },
    {
      "cell_type": "markdown",
      "source": [
        "# А что надо сделать то?\n",
        "\n",
        "\n",
        "\n",
        "В тетрадке вам предстоит сделать следующие шаги:\n",
        "\n",
        "\n",
        "\n",
        "1. Обучить нейросеть предсказывать категорию новости\n",
        "\n",
        "2. Построить предсказания для тех новостей, где мы ничего не знаем о категории\n",
        "\n",
        "3. Использовать уже обученный для сентимент-анализа классификатор из библиотеки `hugging face` чтобы предсказать эмоциональную окраску каждого комментария\n",
        "\n",
        "4. Провести аналитику по новостям, а именно построите топы из самых позитивных и негативных категорий и новостей\n",
        "\n",
        "\n",
        "\n",
        "Для первого шага вам будет дан бэйзлайн. Если вы его прогоните, у вас получится базовая модель, которая даст некоторое качество решения задачи. Вам надо будет выяснить, насколько это качество оказалось хорошим, а затем внести в код некоторые улучшения.\n",
        "\n",
        "\n"
      ],
      "metadata": {
        "id": "58hpgVLvM_zT"
      }
    },
    {
      "cell_type": "markdown",
      "source": [
        "## Часть 1: категоризация новостей (5 баллов + 1.8 бонусных)\n",
        "\n",
        "\n",
        "\n",
        "Каждой новости в соотвествие поставлены ключевые слова. Будем считать, что эти ключевые слова — тематики новости. Нужно научиться предсказывать тематики по тексту новости. Готовые тематики у нас есть только по новостям с сайта. Они за 2018 год. По новостям из ВКонтакте у нас тематик нет. Мы собираемся их предсказать.\n",
        "\n",
        "\n",
        "\n",
        "Новости, опубликованные ВКонтакте, отличаются от новостей с сайта тем, что у них есть только титул и короткое описание. Странно будет обучать нейросеть на длинных текстах, а потом использовать её на коротких описаниях. Мы не будем так делать. Мы попробуем обучить базовый вариант нейронной сети только на заголовках новостей. Все, кто захочет получить бонусные баллы, смогут попробовать добавить в нейросеть сниппеты (так назыают короткие описания новостей)."
      ],
      "metadata": {
        "id": "hdb5XYa_M_zT"
      }
    },
    {
      "cell_type": "markdown",
      "source": [
        "## 1.1 Подготовка таргета\n",
        "\n",
        "\n",
        "\n",
        "Поработаем с таргетом. Мы будем предсказывать переменную `tags`. Давайте выясним скоько уникальных тегов существует."
      ],
      "metadata": {
        "id": "NmGxSLP-M_zT"
      }
    },
    {
      "cell_type": "code",
      "source": [
        "from collections import Counter\n",
        "\n",
        "# удалим все лишние пробелы и сделаем lowercase\n",
        "df_ria['tags'] = (\n",
        "    df_ria.tags.\n",
        "    apply(lambda w: ','.join([item.strip() for item in  w.lower().split(',')]))\n",
        ")\n",
        "\n",
        "tags = ','.join(list(df_ria.tags.values))\n",
        "tags_cnt = Counter(tags.split(','))\n",
        "\n",
        "print(len(tags_cnt))\n",
        "tags_cnt.most_common()[-20:]"
      ],
      "metadata": {
        "id": "NZDxrSvkM_zT",
        "outputId": "f943777c-de05-437d-9cb0-27c24cb8b2f6",
        "trusted": true,
        "execution": {
          "iopub.status.busy": "2024-12-07T16:16:00.579671Z",
          "iopub.execute_input": "2024-12-07T16:16:00.579957Z",
          "iopub.status.idle": "2024-12-07T16:16:01.231453Z",
          "shell.execute_reply.started": "2024-12-07T16:16:00.57993Z",
          "shell.execute_reply": "2024-12-07T16:16:01.230548Z"
        }
      },
      "outputs": [
        {
          "name": "stdout",
          "text": "13344\n",
          "output_type": "stream"
        },
        {
          "execution_count": 23,
          "output_type": "execute_result",
          "data": {
            "text/plain": "[('блог анны завершинской об автоспорте - блоги', 1),\n ('министерство транспорта рб', 1),\n ('министерство здравоохранения грузии', 1),\n ('палех', 1),\n ('юрий посохов (хореограф)', 1),\n ('мария александрова', 1),\n ('том бенсон', 1),\n ('абдул каюм кочай', 1),\n ('нуман куртулмуш', 1),\n ('mipim', 1),\n ('владимир попов', 1),\n ('брюно женезио', 1),\n ('роберт фицо', 1),\n ('сергей пашинский', 1),\n ('валерия гонтарева', 1),\n ('нововоронеж', 1),\n ('императорское православное палестинское общество', 1),\n ('event_poslanie_prezidenta_rf_federalnomu_sobraniju', 1),\n ('фхтр', 1),\n ('игорь честин', 1)]"
          },
          "metadata": {}
        }
      ],
      "execution_count": null
    },
    {
      "cell_type": "markdown",
      "source": [
        "Всего в выборке есть порядка 13 000 тэгов. Многие встречаются всего по разу. Давайте оставим в выборке только те тэги, которые встречаются более 30 раз."
      ],
      "metadata": {
        "id": "5Wv68z36M_zT"
      }
    },
    {
      "cell_type": "code",
      "source": [
        "target_tags = {tag for tag,cnt in tags_cnt.most_common() if cnt > 30}\n",
        "len(target_tags)"
      ],
      "metadata": {
        "id": "eA6H34iKM_zU",
        "outputId": "f5b55784-1052-455a-e961-a0fa85bd3932",
        "trusted": true,
        "execution": {
          "iopub.status.busy": "2024-12-07T16:16:01.243774Z",
          "iopub.execute_input": "2024-12-07T16:16:01.244079Z",
          "iopub.status.idle": "2024-12-07T16:16:01.264422Z",
          "shell.execute_reply.started": "2024-12-07T16:16:01.244051Z",
          "shell.execute_reply": "2024-12-07T16:16:01.263369Z"
        }
      },
      "outputs": [
        {
          "execution_count": 25,
          "output_type": "execute_result",
          "data": {
            "text/plain": "1583"
          },
          "metadata": {}
        }
      ],
      "execution_count": null
    },
    {
      "cell_type": "markdown",
      "source": [
        "Закодируем теги для OHE."
      ],
      "metadata": {
        "id": "RLrQSyCDM_zU"
      }
    },
    {
      "cell_type": "code",
      "source": [
        "tag2idx = dict(zip(target_tags, range(len(target_tags))))\n",
        "idx2tag = {jtem: item for item,jtem in tag2idx.items()}"
      ],
      "metadata": {
        "id": "J2fKnLmTM_zU",
        "trusted": true,
        "execution": {
          "iopub.status.busy": "2024-12-07T16:16:01.386737Z",
          "iopub.execute_input": "2024-12-07T16:16:01.387126Z",
          "iopub.status.idle": "2024-12-07T16:16:01.393374Z",
          "shell.execute_reply.started": "2024-12-07T16:16:01.387085Z",
          "shell.execute_reply": "2024-12-07T16:16:01.392387Z"
        }
      },
      "outputs": [],
      "execution_count": null
    },
    {
      "cell_type": "markdown",
      "source": [
        "Почистим таргет от лишних тэгов."
      ],
      "metadata": {
        "id": "8QDNftQqM_zU"
      }
    },
    {
      "cell_type": "code",
      "source": [
        "df_ria['target_tags'] = (\n",
        "    df_ria.tags.\n",
        "    apply(lambda w: [tag2idx.get(item) for item in  w.split(',') if item in target_tags])\n",
        ")\n",
        "\n",
        "df_ria = df_ria[df_ria.target_tags.apply(len) > 0]\n",
        "df_ria.shape"
      ],
      "metadata": {
        "id": "9pqA60YiM_zU",
        "outputId": "af3ccfd7-ae21-43fd-ac89-926cc4b36867",
        "trusted": true,
        "execution": {
          "iopub.status.busy": "2024-12-07T16:16:01.411015Z",
          "iopub.execute_input": "2024-12-07T16:16:01.411326Z",
          "iopub.status.idle": "2024-12-07T16:16:02.219528Z",
          "shell.execute_reply.started": "2024-12-07T16:16:01.411285Z",
          "shell.execute_reply": "2024-12-07T16:16:02.218399Z"
        }
      },
      "outputs": [
        {
          "execution_count": 29,
          "output_type": "execute_result",
          "data": {
            "text/plain": "(201437, 11)"
          },
          "metadata": {}
        }
      ],
      "execution_count": null
    },
    {
      "cell_type": "code",
      "source": [
        "df_ria.target_tags.values[:3]"
      ],
      "metadata": {
        "id": "y0KaYfuQM_zU",
        "outputId": "a8ddc5b6-ffeb-4697-feb8-2a4f011e05b2",
        "trusted": true,
        "execution": {
          "iopub.status.busy": "2024-12-07T16:16:02.228196Z",
          "iopub.execute_input": "2024-12-07T16:16:02.228545Z",
          "iopub.status.idle": "2024-12-07T16:16:02.241192Z",
          "shell.execute_reply.started": "2024-12-07T16:16:02.228484Z",
          "shell.execute_reply": "2024-12-07T16:16:02.240183Z"
        }
      },
      "outputs": [
        {
          "execution_count": 31,
          "output_type": "execute_result",
          "data": {
            "text/plain": "array([list([1117, 1481, 1114]), list([870, 964, 1114]), list([1233])],\n      dtype=object)"
          },
          "metadata": {}
        }
      ],
      "execution_count": null
    },
    {
      "cell_type": "markdown",
      "source": [
        "## 1.2 Подготовка текстов\n",
        "\n",
        "\n",
        "\n",
        "Теперь займёмся предобработкой текстов. Приведём все слова к нижнему регистру и выбросим мусорные символы. В качестве токенов будем рассматривать отдельные слова.\n",
        "\n",
        "\n",
        "\n",
        "Напомню, что мы пока что решили работать только с названиями статей. Поэтому вся предобработка применяется исключительно к ним. **Спойлер:** предобработку для сниппетов вы сделаете сами в первом же задании."
      ],
      "metadata": {
        "id": "Y-hjLFKRM_zU"
      }
    },
    {
      "cell_type": "code",
      "source": [
        "import nltk\n",
        "\n",
        "nltk.download('punkt')\n",
        "nltk.download('punkt_tab')\n",
        "nltk.download('stopwords')"
      ],
      "metadata": {
        "id": "DUEWRZWTQsHy",
        "outputId": "2fe04954-273e-441e-e29d-d689166692a8",
        "trusted": true,
        "execution": {
          "iopub.status.busy": "2024-12-07T16:16:02.312035Z",
          "iopub.execute_input": "2024-12-07T16:16:02.31236Z",
          "iopub.status.idle": "2024-12-07T16:16:02.331824Z",
          "shell.execute_reply.started": "2024-12-07T16:16:02.312329Z",
          "shell.execute_reply": "2024-12-07T16:16:02.330922Z"
        }
      },
      "outputs": [
        {
          "name": "stdout",
          "text": "[nltk_data] Downloading package punkt to /usr/share/nltk_data...\n[nltk_data]   Package punkt is already up-to-date!\n[nltk_data] Downloading package punkt_tab to /usr/share/nltk_data...\n[nltk_data]   Package punkt_tab is already up-to-date!\n[nltk_data] Downloading package stopwords to /usr/share/nltk_data...\n[nltk_data]   Package stopwords is already up-to-date!\n",
          "output_type": "stream"
        },
        {
          "execution_count": 33,
          "output_type": "execute_result",
          "data": {
            "text/plain": "True"
          },
          "metadata": {}
        }
      ],
      "execution_count": null
    },
    {
      "cell_type": "code",
      "source": [
        "import re\n",
        "from nltk.tokenize import word_tokenize\n",
        "\n",
        "def normalise_text(text):\n",
        "    text = text.lower()\n",
        "\n",
        "    # сурово регулярками выкидываем мусорные символы\n",
        "    text = re.sub('[^а-яa-z0-9 ]', '', text)\n",
        "    return text.strip()\n",
        "\n",
        "df_ria['title_clean'] = df_ria.title.apply(normalise_text)\n",
        "\n",
        "word_cnt = Counter(word_tokenize(' '.join(df_ria.title_clean.values)))\n",
        "len(word_cnt)"
      ],
      "metadata": {
        "id": "bLHWjtkoM_zU",
        "outputId": "b31d890c-e3bc-4be5-e285-372503938fda",
        "trusted": true,
        "execution": {
          "iopub.status.busy": "2024-12-07T16:16:11.847919Z",
          "iopub.execute_input": "2024-12-07T16:16:11.848213Z",
          "iopub.status.idle": "2024-12-07T16:16:20.578197Z",
          "shell.execute_reply.started": "2024-12-07T16:16:11.848185Z",
          "shell.execute_reply": "2024-12-07T16:16:20.577165Z"
        }
      },
      "outputs": [
        {
          "execution_count": 35,
          "output_type": "execute_result",
          "data": {
            "text/plain": "112178"
          },
          "metadata": {}
        }
      ],
      "execution_count": null
    },
    {
      "cell_type": "code",
      "source": [
        "word_cnt.most_common()[:10]"
      ],
      "metadata": {
        "id": "-OGzgIx-M_zV",
        "outputId": "6da55448-8b6f-4370-d3ae-abcc52db7f0d",
        "trusted": true,
        "execution": {
          "iopub.status.busy": "2024-12-07T16:16:20.589012Z",
          "iopub.execute_input": "2024-12-07T16:16:20.589321Z",
          "iopub.status.idle": "2024-12-07T16:16:20.642234Z",
          "shell.execute_reply.started": "2024-12-07T16:16:20.589292Z",
          "shell.execute_reply": "2024-12-07T16:16:20.641255Z"
        }
      },
      "outputs": [
        {
          "execution_count": 37,
          "output_type": "execute_result",
          "data": {
            "text/plain": "[('в', 127323),\n ('на', 44386),\n ('с', 26150),\n ('и', 21771),\n ('о', 19948),\n ('по', 17014),\n ('россии', 13494),\n ('не', 13483),\n ('сша', 9942),\n ('за', 9881)]"
          },
          "metadata": {}
        }
      ],
      "execution_count": null
    },
    {
      "cell_type": "markdown",
      "source": [
        "Давайте почистим словарь от стоп-слов и подготовим его к использованию внутри датасета. Мы будем с помощью словаря заменять слова на индексы. Добавим в словарь несколько специальных токенов для неизвестных слов и паддингов."
      ],
      "metadata": {
        "id": "ydRq2i-fM_zV"
      }
    },
    {
      "cell_type": "code",
      "source": [
        "from nltk.corpus import stopwords\n",
        "\n",
        "stops_ru = set(stopwords.words('russian'))\n",
        "len(stops_ru)"
      ],
      "metadata": {
        "id": "7W5X3hM2M_zV",
        "outputId": "2c1a7490-7ee6-4829-8b60-2b2a118ab172",
        "trusted": true,
        "execution": {
          "iopub.status.busy": "2024-12-07T16:16:20.653263Z",
          "iopub.execute_input": "2024-12-07T16:16:20.653606Z",
          "iopub.status.idle": "2024-12-07T16:16:20.665587Z",
          "shell.execute_reply.started": "2024-12-07T16:16:20.653576Z",
          "shell.execute_reply": "2024-12-07T16:16:20.664557Z"
        }
      },
      "outputs": [
        {
          "execution_count": 39,
          "output_type": "execute_result",
          "data": {
            "text/plain": "151"
          },
          "metadata": {}
        }
      ],
      "execution_count": null
    },
    {
      "cell_type": "code",
      "source": [
        "vocabulary = {\"#PAD#\": 0, \"#UNK#\": 1}\n",
        "k = 2\n",
        "\n",
        "for word, _ in word_cnt.most_common():\n",
        "    if word not in stops_ru:\n",
        "        vocabulary[word] = k\n",
        "        k += 1"
      ],
      "metadata": {
        "id": "0h0Eq-fkM_zV",
        "trusted": true,
        "execution": {
          "iopub.status.busy": "2024-12-07T16:16:20.709117Z",
          "iopub.execute_input": "2024-12-07T16:16:20.709412Z",
          "iopub.status.idle": "2024-12-07T16:16:20.838302Z",
          "shell.execute_reply.started": "2024-12-07T16:16:20.709384Z",
          "shell.execute_reply": "2024-12-07T16:16:20.837336Z"
        }
      },
      "outputs": [],
      "execution_count": null
    },
    {
      "cell_type": "code",
      "source": [
        "len(vocabulary)"
      ],
      "metadata": {
        "id": "xL0VgZT6M_zV",
        "outputId": "a124eeb5-4af3-4eca-c47f-346e96359a09",
        "trusted": true,
        "execution": {
          "iopub.status.busy": "2024-12-07T16:16:20.972007Z",
          "iopub.execute_input": "2024-12-07T16:16:20.972286Z",
          "iopub.status.idle": "2024-12-07T16:16:20.978209Z",
          "shell.execute_reply.started": "2024-12-07T16:16:20.97226Z",
          "shell.execute_reply": "2024-12-07T16:16:20.977252Z"
        }
      },
      "outputs": [
        {
          "execution_count": 43,
          "output_type": "execute_result",
          "data": {
            "text/plain": "112030"
          },
          "metadata": {}
        }
      ],
      "execution_count": null
    },
    {
      "cell_type": "markdown",
      "source": [
        "Завернём код для создания словаря в функцию."
      ],
      "metadata": {
        "id": "U9NQcllLM_zV"
      }
    },
    {
      "cell_type": "code",
      "source": [
        "def create_vocab(text, stops_ru=stops_ru):\n",
        "\n",
        "    word_cnt = Counter(word_tokenize(text))\n",
        "    vocabulary = {\"#PAD#\": 0, \"#UNK#\": 1}\n",
        "    k = 2\n",
        "\n",
        "    for word, _ in word_cnt.most_common():\n",
        "        if word not in stops_ru:\n",
        "            vocabulary[word] = k\n",
        "            k += 1\n",
        "    return vocabulary"
      ],
      "metadata": {
        "id": "VAMLLbXxM_zV",
        "trusted": true,
        "execution": {
          "iopub.status.busy": "2024-12-07T16:16:21.032751Z",
          "iopub.execute_input": "2024-12-07T16:16:21.033034Z",
          "iopub.status.idle": "2024-12-07T16:16:21.038585Z",
          "shell.execute_reply.started": "2024-12-07T16:16:21.033007Z",
          "shell.execute_reply": "2024-12-07T16:16:21.037521Z"
        }
      },
      "outputs": [],
      "execution_count": null
    },
    {
      "cell_type": "markdown",
      "source": [
        "__[0.5 балла] Задание 1:__\n",
        "\n",
        "\n",
        "\n",
        "- Cделайте аналогичную предобработку титулов из таблички `df_vk`. Запишите получившийся результат в столбец `title_clean` по аналогии с таблицей `df_ria`.\n",
        "\n",
        "- Сделайте для обеих таблиц предобработку колонок со сниппетами `snippet` и запишите получившийся результат в столбец `snippet_clean`. Все пропуски заполните токеном `\"#UNKN\"`."
      ],
      "metadata": {
        "id": "lnYJT9BXM_zV"
      }
    },
    {
      "cell_type": "code",
      "source": [
        "df_vk['title_clean'] = df_vk.title.apply(normalise_text)"
      ],
      "metadata": {
        "id": "FTlZA9amM_zV",
        "trusted": true,
        "execution": {
          "iopub.status.busy": "2024-12-07T16:16:21.080927Z",
          "iopub.execute_input": "2024-12-07T16:16:21.081219Z",
          "iopub.status.idle": "2024-12-07T16:16:21.143439Z",
          "shell.execute_reply.started": "2024-12-07T16:16:21.08119Z",
          "shell.execute_reply": "2024-12-07T16:16:21.142533Z"
        }
      },
      "outputs": [],
      "execution_count": null
    },
    {
      "cell_type": "code",
      "source": [
        "def snippet_preprocess(snippet):\n",
        "    if pd.isnull(snippet):\n",
        "        return \"#UNK#\"\n",
        "    return normalise_text(snippet)\n",
        "\n",
        "df_ria['snippet_clean'] = df_ria.snippet.apply(snippet_preprocess)\n",
        "df_vk['snippet_clean'] = df_vk.snippet.apply(snippet_preprocess)"
      ],
      "metadata": {
        "trusted": true,
        "execution": {
          "iopub.status.busy": "2024-12-07T16:16:21.27396Z",
          "iopub.execute_input": "2024-12-07T16:16:21.274252Z",
          "iopub.status.idle": "2024-12-07T16:16:30.964635Z",
          "shell.execute_reply.started": "2024-12-07T16:16:21.274225Z",
          "shell.execute_reply": "2024-12-07T16:16:30.963705Z"
        },
        "id": "6aFPZ8rc7DlH"
      },
      "outputs": [],
      "execution_count": null
    },
    {
      "cell_type": "code",
      "source": [
        "df_ria['snippet_clean'].head()"
      ],
      "metadata": {
        "trusted": true,
        "execution": {
          "iopub.status.busy": "2024-12-07T16:16:31.035868Z",
          "iopub.execute_input": "2024-12-07T16:16:31.036287Z",
          "iopub.status.idle": "2024-12-07T16:16:31.044545Z",
          "shell.execute_reply.started": "2024-12-07T16:16:31.036243Z",
          "shell.execute_reply": "2024-12-07T16:16:31.043554Z"
        },
        "id": "7sNUtdm37DlH",
        "outputId": "7e483c16-1f90-4a92-c90d-e027714b951f"
      },
      "outputs": [
        {
          "execution_count": 51,
          "output_type": "execute_result",
          "data": {
            "text/plain": "0    премьерминистр израиля биньямин нетаньяху не н...\n1    результат реформ не может быть мгновенным заяв...\n4    аргентинский теннисист хуан мартин дель потро ...\n5    суд в американском штате массачусетс отверг хо...\n6    зимняя классика  матч регулярного чемпионата н...\nName: snippet_clean, dtype: object"
          },
          "metadata": {}
        }
      ],
      "execution_count": null
    },
    {
      "cell_type": "code",
      "source": [
        "df_vk['snippet_clean'].head()"
      ],
      "metadata": {
        "trusted": true,
        "execution": {
          "iopub.status.busy": "2024-12-07T16:16:31.057578Z",
          "iopub.execute_input": "2024-12-07T16:16:31.058296Z",
          "iopub.status.idle": "2024-12-07T16:16:31.071551Z",
          "shell.execute_reply.started": "2024-12-07T16:16:31.05825Z",
          "shell.execute_reply": "2024-12-07T16:16:31.07058Z"
        },
        "id": "zBKJMtqZ7DlH",
        "outputId": "1588845a-4c92-4213-ee67-271f6222b722"
      },
      "outputs": [
        {
          "execution_count": 53,
          "output_type": "execute_result",
          "data": {
            "text/plain": "0    #UNK#\n1    #UNK#\n2    #UNK#\n3    #UNK#\n4    #UNK#\nName: snippet_clean, dtype: object"
          },
          "metadata": {}
        }
      ],
      "execution_count": null
    },
    {
      "cell_type": "code",
      "source": [
        "df_vk.info()"
      ],
      "metadata": {
        "trusted": true,
        "execution": {
          "iopub.status.busy": "2024-12-07T16:16:31.08298Z",
          "iopub.execute_input": "2024-12-07T16:16:31.083298Z",
          "iopub.status.idle": "2024-12-07T16:16:31.10688Z",
          "shell.execute_reply.started": "2024-12-07T16:16:31.083268Z",
          "shell.execute_reply": "2024-12-07T16:16:31.105812Z"
        },
        "id": "T6eIq2Ft7DlI",
        "outputId": "3c2045c5-5da3-4355-bf65-b4f05c0b0d88"
      },
      "outputs": [
        {
          "name": "stdout",
          "text": "<class 'pandas.core.frame.DataFrame'>\nRangeIndex: 19928 entries, 0 to 19927\nData columns (total 9 columns):\n #   Column         Non-Null Count  Dtype \n---  ------         --------------  ----- \n 0   id             19928 non-null  int64 \n 1   href           19928 non-null  object\n 2   datetime       19928 non-null  object\n 3   title          19928 non-null  object\n 4   likes          19928 non-null  int64 \n 5   comments       19928 non-null  int64 \n 6   snippet        6525 non-null   object\n 7   title_clean    19928 non-null  object\n 8   snippet_clean  19928 non-null  object\ndtypes: int64(3), object(6)\nmemory usage: 1.4+ MB\n",
          "output_type": "stream"
        }
      ],
      "execution_count": null
    },
    {
      "cell_type": "markdown",
      "source": [
        "## 1.3 Поставка данных"
      ],
      "metadata": {
        "id": "WrRKg_QHM_zV"
      }
    },
    {
      "cell_type": "markdown",
      "source": [
        "Пересечение сайта и ВК по опубликованным новостям довольно маленькое. Мы обучаем модель на данных с сайта. Предсказания мы будем строить на данных из ВК. У этих данных разная природа. В ВК описание статей и заголовки короче. Модель может хорошо показать себя на данных с новостного сайта, но сильно просесть в качестве на данных из ВК.\n",
        "\n",
        "\n",
        "\n",
        "Давайте сохраним пересечение в отдельную табличку, чтобы на нём можно было понять, насколько сильно деградирует модель."
      ],
      "metadata": {
        "id": "S2vPPWsEM_zV"
      }
    },
    {
      "cell_type": "code",
      "source": [
        "ria_hrefs = set(df_ria.href.values)\n",
        "vk_hrefs = set(df_vk.href.values)\n",
        "test_hrefs = (vk_hrefs & ria_hrefs)\n",
        "\n",
        "print('Размер отложенной выборки:', len(test_hrefs))\n",
        "\n",
        "df = df_ria[~df_ria.href.isin(test_hrefs)]"
      ],
      "metadata": {
        "id": "8KjCNaTLM_zW",
        "outputId": "a0de14af-5d32-4dff-89f7-3b04a7e35271",
        "trusted": true,
        "execution": {
          "iopub.status.busy": "2024-12-07T16:17:04.866154Z",
          "iopub.execute_input": "2024-12-07T16:17:04.866464Z",
          "iopub.status.idle": "2024-12-07T16:17:05.009622Z",
          "shell.execute_reply.started": "2024-12-07T16:17:04.866434Z",
          "shell.execute_reply": "2024-12-07T16:17:05.008601Z"
        }
      },
      "outputs": [
        {
          "name": "stdout",
          "text": "Размер отложенной выборки: 1128\n",
          "output_type": "stream"
        }
      ],
      "execution_count": null
    },
    {
      "cell_type": "markdown",
      "source": [
        "По странному совпадению (я правда не знаю почему) пересечение лежит в декабре. Мы будем его использовать как тестовую выборку."
      ],
      "metadata": {
        "id": "FVutzHbPM_zg"
      }
    },
    {
      "cell_type": "code",
      "source": [
        "df_ria[df_ria.href.isin(test_hrefs)].date.min(), df_ria[df_ria.href.isin(test_hrefs)].date.max()"
      ],
      "metadata": {
        "id": "1fGs6y6PM_zg",
        "outputId": "5a639a55-e194-4d78-bba0-f6297339f49d",
        "trusted": true,
        "execution": {
          "iopub.status.busy": "2024-12-07T16:17:05.019304Z",
          "iopub.execute_input": "2024-12-07T16:17:05.020069Z",
          "iopub.status.idle": "2024-12-07T16:17:05.075481Z",
          "shell.execute_reply.started": "2024-12-07T16:17:05.020025Z",
          "shell.execute_reply": "2024-12-07T16:17:05.074386Z"
        }
      },
      "outputs": [
        {
          "execution_count": 59,
          "output_type": "execute_result",
          "data": {
            "text/plain": "('2018-12-06', '2018-12-31')"
          },
          "metadata": {}
        }
      ],
      "execution_count": null
    },
    {
      "cell_type": "markdown",
      "source": [
        "Предположим, что мы делим выборку на обучающую и тестовую случайно. За один и тот же промежуток времени может выйти довольно большое число новостей с одинаковым заголовком. Давайте представим себе, что в тесте и трэйне есть много статей про одно и то же событие. Модель научилась на обучающей выборке хорошо его тегировать. Остальные события модель тегирует намного хуже. Метрики на тестовой выборке высокие. В следующем месяце СМИ перестают освещать это событие, в потоке новостей совершенно другие новости. Качество модели резко проседает.\n",
        "\n",
        "\n",
        "\n",
        "Чтобы не напороться на завышенные метрики, обычно выборку дробят на обучающую и тестовую по времени. Тогда статьи из теста будут имитировать поток новых новостей, освещающих новые события."
      ],
      "metadata": {
        "id": "VJ_7VGvnM_zg"
      }
    },
    {
      "cell_type": "code",
      "source": [
        "df.date.min(), df.date.max()"
      ],
      "metadata": {
        "id": "WscwQXAuM_zg",
        "outputId": "0a83dd25-a157-45e9-b757-f9fdf70a56e2",
        "trusted": true,
        "execution": {
          "iopub.status.busy": "2024-12-07T16:17:05.100821Z",
          "iopub.execute_input": "2024-12-07T16:17:05.101223Z",
          "iopub.status.idle": "2024-12-07T16:17:05.139746Z",
          "shell.execute_reply.started": "2024-12-07T16:17:05.101178Z",
          "shell.execute_reply": "2024-12-07T16:17:05.138728Z"
        }
      },
      "outputs": [
        {
          "execution_count": 61,
          "output_type": "execute_result",
          "data": {
            "text/plain": "('2018-03-15', '2018-12-31')"
          },
          "metadata": {}
        }
      ],
      "execution_count": null
    },
    {
      "cell_type": "markdown",
      "source": [
        "__[0.5 балла] Задание 2:__ Разбейте выборку на обучающую, валидационную и тестовую. В тест возьмите весь декабрь. В валидацию октябрь и ноябрь."
      ],
      "metadata": {
        "id": "bzM_6-ntM_zg"
      }
    },
    {
      "cell_type": "code",
      "source": [
        "val_start = '2018-10-01'\n",
        "val_end = '2018-11-30'\n",
        "test_start = '2018-12-01'\n",
        "\n",
        "df_test = df[df.date >= test_start]\n",
        "df_val = df[(df.date >= val_start) & (df.date <= val_end)]\n",
        "df_train = df[df.date < val_start]\n",
        "\n",
        "df_train.shape[0], df_val.shape[0], df_test.shape[0]"
      ],
      "metadata": {
        "id": "Yzr5nNIvM_zg",
        "trusted": true,
        "execution": {
          "iopub.status.busy": "2024-12-07T16:17:05.147193Z",
          "iopub.execute_input": "2024-12-07T16:17:05.147487Z",
          "iopub.status.idle": "2024-12-07T16:17:05.293965Z",
          "shell.execute_reply.started": "2024-12-07T16:17:05.14746Z",
          "shell.execute_reply": "2024-12-07T16:17:05.292959Z"
        },
        "outputId": "18ca4f5a-3543-4c7f-fc4e-f133398820df"
      },
      "outputs": [
        {
          "execution_count": 63,
          "output_type": "execute_result",
          "data": {
            "text/plain": "(136875, 43258, 20176)"
          },
          "metadata": {}
        }
      ],
      "execution_count": null
    },
    {
      "cell_type": "markdown",
      "source": [
        "Сформируем отложенную выборку (пересечение ВКонтакте и РИА)."
      ],
      "metadata": {
        "id": "AlG-87v8M_zh"
      }
    },
    {
      "cell_type": "code",
      "source": [
        "df_oob = df_vk[df_vk.href.isin(test_hrefs)][['href', 'title_clean']]\n",
        "df_ria_oob = df_ria[df_ria.href.isin(test_hrefs)][['href', 'target_tags']]\n",
        "\n",
        "df_oob = df_oob.set_index('href').join(df_ria_oob.set_index('href')).reset_index()\n",
        "df_oob.head()"
      ],
      "metadata": {
        "id": "KmBZjIx4M_zh",
        "outputId": "6b4bc36b-9d88-4182-a0b0-9d4c4314a248",
        "trusted": true,
        "execution": {
          "iopub.status.busy": "2024-12-07T16:17:09.066215Z",
          "iopub.execute_input": "2024-12-07T16:17:09.0668Z",
          "iopub.status.idle": "2024-12-07T16:17:09.110577Z",
          "shell.execute_reply.started": "2024-12-07T16:17:09.066765Z",
          "shell.execute_reply": "2024-12-07T16:17:09.109569Z"
        }
      },
      "outputs": [
        {
          "execution_count": 65,
          "output_type": "execute_result",
          "data": {
            "text/plain": "                        href  \\\n0  /20181231/1548960744.html   \n1  /20181231/1548958617.html   \n2  /20181231/1548957394.html   \n3  /20181231/1548954909.html   \n4  /20181231/1548957120.html   \n\n                                         title_clean  \\\n0   митрополит рязанский раскритиковал иронию судьбы   \n1  на украине позавидовали стене на границе с крымом   \n2  в госдуме предложили отказаться от газа в жилы...   \n3                названы лучшие средства от похмелья   \n4  новогоднее поздравление порошенко разозлило по...   \n\n                      target_tags  \n0                           [335]  \n1                    [1531, 1114]  \n2  [1079, 1079, 1058, 1472, 1507]  \n3                           [335]  \n4                    [1531, 1114]  ",
            "text/html": "<div>\n<style scoped>\n    .dataframe tbody tr th:only-of-type {\n        vertical-align: middle;\n    }\n\n    .dataframe tbody tr th {\n        vertical-align: top;\n    }\n\n    .dataframe thead th {\n        text-align: right;\n    }\n</style>\n<table border=\"1\" class=\"dataframe\">\n  <thead>\n    <tr style=\"text-align: right;\">\n      <th></th>\n      <th>href</th>\n      <th>title_clean</th>\n      <th>target_tags</th>\n    </tr>\n  </thead>\n  <tbody>\n    <tr>\n      <th>0</th>\n      <td>/20181231/1548960744.html</td>\n      <td>митрополит рязанский раскритиковал иронию судьбы</td>\n      <td>[335]</td>\n    </tr>\n    <tr>\n      <th>1</th>\n      <td>/20181231/1548958617.html</td>\n      <td>на украине позавидовали стене на границе с крымом</td>\n      <td>[1531, 1114]</td>\n    </tr>\n    <tr>\n      <th>2</th>\n      <td>/20181231/1548957394.html</td>\n      <td>в госдуме предложили отказаться от газа в жилы...</td>\n      <td>[1079, 1079, 1058, 1472, 1507]</td>\n    </tr>\n    <tr>\n      <th>3</th>\n      <td>/20181231/1548954909.html</td>\n      <td>названы лучшие средства от похмелья</td>\n      <td>[335]</td>\n    </tr>\n    <tr>\n      <th>4</th>\n      <td>/20181231/1548957120.html</td>\n      <td>новогоднее поздравление порошенко разозлило по...</td>\n      <td>[1531, 1114]</td>\n    </tr>\n  </tbody>\n</table>\n</div>"
          },
          "metadata": {}
        }
      ],
      "execution_count": null
    },
    {
      "cell_type": "markdown",
      "source": [
        "Напишем датасет для поставки данных в нейросеть.\n"
      ],
      "metadata": {
        "id": "laZ8tkFjM_zh"
      }
    },
    {
      "cell_type": "code",
      "source": [
        "from torch.utils.data import Dataset\n",
        "from torch.utils.data import DataLoader\n",
        "\n",
        "class NewsDataset(Dataset):\n",
        "    def __init__(self, target, title, vocab, vocab_size, max_title_len, max_classes, snippet=None, max_snippet_len=None):\n",
        "       self.vocab = {word: idx  for word,idx in vocab.items() if idx < vocab_size}\n",
        "       self.max_classes = max_classes\n",
        "       self.y = self.target_ohe(target)\n",
        "       self.X_title = self.create_text(title, max_title_len)\n",
        "\n",
        "    def target_ohe(self, target):\n",
        "        y = torch.zeros((len(target), self.max_classes))\n",
        "        for i, t in enumerate(target):\n",
        "            y[[i]*len(t), t] = 1.0\n",
        "        return y\n",
        "\n",
        "    def create_text(self, texts, max_len):\n",
        "        result = []\n",
        "        for sent in texts:\n",
        "            # {#PAD: 0, #UNKN: 1}\n",
        "            sent_tokenize = [self.vocab.get(item, 1) for item in word_tokenize(sent)]\n",
        "\n",
        "            # приводим все тексты к max_len\n",
        "            if len(sent_tokenize) >= max_len:\n",
        "                sent_tokenize = sent_tokenize[:max_len]\n",
        "            else:\n",
        "                sent_tokenize += [0] * (max_len - len(sent_tokenize))\n",
        "            result.append(sent_tokenize)\n",
        "        return torch.tensor(result, dtype=torch.int)\n",
        "\n",
        "    def __len__(self):\n",
        "        return len(self.X_title)\n",
        "\n",
        "    def __getitem__(self, idx):\n",
        "        return (self.X_title[idx, :], self.y[idx])"
      ],
      "metadata": {
        "id": "0if_RkA_M_zh",
        "trusted": true,
        "execution": {
          "iopub.status.busy": "2024-12-07T16:17:23.514767Z",
          "iopub.execute_input": "2024-12-07T16:17:23.515159Z",
          "iopub.status.idle": "2024-12-07T16:17:23.525037Z",
          "shell.execute_reply.started": "2024-12-07T16:17:23.515129Z",
          "shell.execute_reply": "2024-12-07T16:17:23.52394Z"
        }
      },
      "outputs": [],
      "execution_count": null
    },
    {
      "cell_type": "markdown",
      "source": [
        "__[0.5 балла] Задание 3:__ Сейчас датасет умеет работать только с полем `title_clean`. Давайте сделаем этот датасет более многофукнциональным и добавим в него возможность добавить в обработку данных сниппет.\n",
        "\n",
        "\n",
        "\n",
        "1. Внутри датасета `snippet` надо обработать точно также как и `title`.\n",
        "\n",
        "2. Если `snippet=None`, датасет должен вернуть два объекта: `X_title, y`. В обратном случае датасет должен вернуть три объекта.\n",
        "\n",
        "\n",
        "\n",
        "**Важно:** Весь код ниже работает сейчас без сниппета. Он не должен развалиться от того, что сниппет в нём нигде не указан."
      ],
      "metadata": {
        "id": "xQMfQ1ZkM_zh"
      }
    },
    {
      "cell_type": "code",
      "source": [
        "### ╰( ͡° ͜ʖ ͡° )つ▬▬ι═══════  bzzzzzzzzzz\n",
        "# will the code be with you\n",
        "\n",
        "# Внесите в код датасета выше свои правки"
      ],
      "metadata": {
        "id": "1ekPnlTlM_zh",
        "trusted": true,
        "execution": {
          "iopub.status.busy": "2024-12-07T16:17:10.001305Z",
          "iopub.status.idle": "2024-12-07T16:17:10.001678Z",
          "shell.execute_reply.started": "2024-12-07T16:17:10.001473Z",
          "shell.execute_reply": "2024-12-07T16:17:10.001489Z"
        }
      },
      "outputs": [],
      "execution_count": null
    },
    {
      "cell_type": "markdown",
      "source": [
        "Объявим датасеты, оставим в словаре 30 000 самых частотных слов. Будем смотреть на титулы максимальной длины 20."
      ],
      "metadata": {
        "id": "1v_Rgi_DM_zh"
      }
    },
    {
      "cell_type": "code",
      "source": [
        "CLASSES_NUM = len(idx2tag)\n",
        "VOCAB_SIZE = 10000\n",
        "MAX_TITLE_LEN = 20\n",
        "\n",
        "# словарь создаем по всей выборке\n",
        "vocabulary = create_vocab(' '.join(df_ria.title_clean.values))\n",
        "\n",
        "# объявляем датасеты\n",
        "train_dataset = NewsDataset(df_train.target_tags.values, df_train.title_clean.values, vocabulary, VOCAB_SIZE, MAX_TITLE_LEN, CLASSES_NUM )\n",
        "val_dataset = NewsDataset(df_val.target_tags.values, df_val.title_clean.values, vocabulary, VOCAB_SIZE, MAX_TITLE_LEN, CLASSES_NUM )\n",
        "test_dataset = NewsDataset(df_test.target_tags.values, df_test.title_clean.values, vocabulary, VOCAB_SIZE, MAX_TITLE_LEN, CLASSES_NUM )"
      ],
      "metadata": {
        "id": "2zjgEiWWM_zh",
        "trusted": true,
        "execution": {
          "iopub.status.busy": "2024-12-07T16:17:10.004412Z",
          "iopub.status.idle": "2024-12-07T16:17:10.004785Z",
          "shell.execute_reply.started": "2024-12-07T16:17:10.004615Z",
          "shell.execute_reply": "2024-12-07T16:17:10.004633Z"
        }
      },
      "outputs": [],
      "execution_count": null
    },
    {
      "cell_type": "code",
      "source": [
        "train_dataloader = DataLoader(train_dataset, shuffle=True, batch_size=64, num_workers=4)\n",
        "val_dataloader = DataLoader(val_dataset, shuffle=False, batch_size=4096, num_workers=4)"
      ],
      "metadata": {
        "id": "kNdo56v0M_zh",
        "trusted": true,
        "execution": {
          "iopub.status.busy": "2024-12-07T16:17:10.007201Z",
          "iopub.status.idle": "2024-12-07T16:17:10.007565Z",
          "shell.execute_reply.started": "2024-12-07T16:17:10.007367Z",
          "shell.execute_reply": "2024-12-07T16:17:10.007384Z"
        }
      },
      "outputs": [],
      "execution_count": null
    },
    {
      "cell_type": "markdown",
      "source": [
        "## 1.4 Архитектуры\n",
        "\n",
        "\n",
        "\n",
        "Соберём базовую архитектуру для обучения."
      ],
      "metadata": {
        "id": "WvQXMtISM_zh"
      }
    },
    {
      "cell_type": "code",
      "source": [
        "from torch import nn\n",
        "import torch.nn.functional as F\n",
        "\n",
        "class SimpleClassifier(nn.Module):\n",
        "    def __init__(self, vocab_size, embedding_dim, output_dim):\n",
        "        super().__init__()\n",
        "        self.embedding = nn.Embedding(vocab_size, embedding_dim)\n",
        "        self.fc = nn.Linear(embedding_dim, output_dim)\n",
        "\n",
        "    def forward(self, title):\n",
        "        embedded = self.embedding(title)\n",
        "        embedded = embedded.mean(dim=1)\n",
        "        return self.fc(embedded)"
      ],
      "metadata": {
        "id": "dN8DAIIkM_zh",
        "trusted": true,
        "execution": {
          "iopub.status.busy": "2024-12-07T16:17:10.010042Z",
          "iopub.status.idle": "2024-12-07T16:17:10.01037Z",
          "shell.execute_reply.started": "2024-12-07T16:17:10.010208Z",
          "shell.execute_reply": "2024-12-07T16:17:10.010225Z"
        }
      },
      "outputs": [],
      "execution_count": null
    },
    {
      "cell_type": "markdown",
      "source": [
        "Соберём в `pytorch_lightning` модуль для обучения нейронки."
      ],
      "metadata": {
        "id": "slQEltBQM_zh"
      }
    },
    {
      "cell_type": "code",
      "source": [
        "#!pip3 install pytorch_lightning"
      ],
      "metadata": {
        "id": "GqKIxEyoM_zi",
        "trusted": true,
        "execution": {
          "iopub.status.busy": "2024-12-07T16:17:10.01268Z",
          "iopub.status.idle": "2024-12-07T16:17:10.013025Z",
          "shell.execute_reply.started": "2024-12-07T16:17:10.012851Z",
          "shell.execute_reply": "2024-12-07T16:17:10.012869Z"
        }
      },
      "outputs": [],
      "execution_count": null
    },
    {
      "cell_type": "code",
      "source": [
        "import pytorch_lightning as pl\n",
        "\n",
        "class TrainLightningModule(pl.LightningModule):\n",
        "    def __init__(self, model, learning_rate, criterion):\n",
        "        super().__init__()\n",
        "        self.model = model\n",
        "        self.criterion = criterion\n",
        "        self.learning_rate = learning_rate\n",
        "\n",
        "    def forward(self, title):\n",
        "        result = self.model(title)\n",
        "        return result\n",
        "\n",
        "    def configure_optimizers(self):\n",
        "        optimizer = torch.optim.Adam(self.parameters(), lr=self.learning_rate)\n",
        "        return optimizer\n",
        "\n",
        "    def training_step(self, train_batch, batch_idx):\n",
        "        title, target = train_batch\n",
        "        logits = self.model(title)\n",
        "        loss = self.criterion(logits, target)\n",
        "        self.log(\"train_loss\", loss, prog_bar=True)\n",
        "        return loss\n",
        "\n",
        "    def validation_step(self, val_batch, batch_idx):\n",
        "        title, target = val_batch\n",
        "        logits = self.model(title)\n",
        "        loss = self.criterion(logits, target)\n",
        "        self.log(\"val_loss\", loss, prog_bar=True)\n",
        "        return loss"
      ],
      "metadata": {
        "id": "5E6J3of9M_zi",
        "trusted": true,
        "execution": {
          "iopub.status.busy": "2024-12-07T16:17:10.015917Z",
          "iopub.status.idle": "2024-12-07T16:17:10.016252Z",
          "shell.execute_reply.started": "2024-12-07T16:17:10.016089Z",
          "shell.execute_reply": "2024-12-07T16:17:10.016106Z"
        }
      },
      "outputs": [],
      "execution_count": null
    },
    {
      "cell_type": "markdown",
      "source": [
        "Обучим модель."
      ],
      "metadata": {
        "id": "6BirneLfM_zi"
      }
    },
    {
      "cell_type": "code",
      "source": [
        "EMBEDDING_DIM = 300\n",
        "EPOCHS = 5\n",
        "LR = 1e-3\n",
        "\n",
        "model_baseline = SimpleClassifier(VOCAB_SIZE, EMBEDDING_DIM, CLASSES_NUM)\n",
        "criterion = torch.nn.CrossEntropyLoss()\n",
        "\n",
        "train_module =TrainLightningModule(model_baseline, LR, criterion)\n",
        "\n",
        "trainer = pl.Trainer(accelerator=\"gpu\", max_epochs=EPOCHS)\n",
        "trainer.fit(train_module, train_dataloader, val_dataloader)"
      ],
      "metadata": {
        "id": "5ShTLAStM_zi",
        "trusted": true,
        "execution": {
          "iopub.status.busy": "2024-12-07T16:17:10.019745Z",
          "iopub.status.idle": "2024-12-07T16:17:10.020237Z",
          "shell.execute_reply.started": "2024-12-07T16:17:10.019984Z",
          "shell.execute_reply": "2024-12-07T16:17:10.02001Z"
        }
      },
      "outputs": [],
      "execution_count": null
    },
    {
      "cell_type": "markdown",
      "source": [
        "__[1 балл] Задание 4:__  Модель выше работает только с титулом.\n",
        "\n",
        "\n",
        "\n",
        "- Залоггируйте её обучение на [WandB](https://wandb.ai/).\n",
        "\n",
        "- Соберите архитектуру, которая будет принимать на вход не только титул, но ещё и сниппет. В этой архитектуре должно происходить следующее:\n",
        "\n",
        "\n",
        "\n",
        "1. Общий слой `nn.Embedding` применяется к сниппету и титулу параллельно.\n",
        "\n",
        "2. Происходит усреднее по текстам.\n",
        "\n",
        "3. Вектора конкатятся в один длины 600\n",
        "\n",
        "4. Линейный слой делает классификацию\n",
        "\n",
        "\n",
        "\n",
        "Обучите эту модель. Сравните траектории обучения на WandB. Прикрепите ссылку на дашборд либо скришот к тетрадке.\n",
        "\n",
        "\n",
        "\n",
        "Даталоадеры придётся объявить заново с учётом сниппетов. Правда ли, что она бьёт на валидационной выборке модель, обученную только на титулах статей?"
      ],
      "metadata": {
        "id": "Qj9QJ-xEM_zi"
      }
    },
    {
      "cell_type": "code",
      "source": [
        "# your code here\n",
        "# (￢_￢)"
      ],
      "metadata": {
        "id": "pOJSMhYMM_zi",
        "trusted": true,
        "execution": {
          "iopub.status.busy": "2024-12-07T16:17:10.023287Z",
          "iopub.status.idle": "2024-12-07T16:17:10.024039Z",
          "shell.execute_reply.started": "2024-12-07T16:17:10.023757Z",
          "shell.execute_reply": "2024-12-07T16:17:10.023784Z"
        }
      },
      "outputs": [],
      "execution_count": null
    },
    {
      "cell_type": "markdown",
      "source": [
        "## 1.5 Инференс и оценка качества моделей\n",
        "\n",
        "\n",
        "\n",
        "Для каждой новости нам надо предсказывать несколько тэгов. То есть в нашем случае настоящее значение таргета это множество из тэгов $y_i = [tag1, tag2, tag3]$. Прогноз модели также множество из тэгов $\\hat y_i = [tag1, tag4]$.\n",
        "\n",
        "\n",
        "\n",
        "Будем считать метрики качества следующим образом (под $|A|$ имеется в виду мощность множества, то есть число элементов в нём):\n",
        "\n",
        "\n",
        "\n",
        "$$\n",
        "\n",
        "Precision = \\frac{1}{n} \\sum_{i = 1}^n \\frac{|y_i \\cap \\hat{y}_i|}{|\\hat{y}_i|}\n",
        "\n",
        "$$\n",
        "\n",
        "\n",
        "\n",
        "$$\n",
        "\n",
        "Recall = \\frac{1}{n} \\sum_{i = 1}^n \\frac{|y_i \\cap \\hat{y}_i|}{|y_i|}\n",
        "\n",
        "$$\n",
        "\n",
        "\n",
        "\n",
        "Также можно считать аналог Accuracy, но это не самая удачная идея, так как у нас в выборке огромное число нулей и эта метрика при любом разумном пороге для принятия решения будет очень высокой.\n",
        "\n",
        "\n",
        "\n",
        "$$\n",
        "\n",
        "Exact Match = \\frac{1}{n} \\cdot \\frac{1}{k} \\sum_{i = 1}^n \\sum_{k=1}^K [y_{ij} = \\hat{y}_{ij}]\n",
        "\n",
        "$$"
      ],
      "metadata": {
        "id": "qKdBptFbM_zi"
      }
    },
    {
      "cell_type": "code",
      "source": [
        "def precision(target, y_pred):\n",
        "    num = ((y_pred == 1) & (target == 1)).sum(dim=1)\n",
        "    denum = (y_pred == 1).sum(dim=1)\n",
        "    return (num/(denum + 1e-5)).mean().item()\n",
        "\n",
        "def recall(target, y_pred):\n",
        "    num = ((y_pred == 1) & (target == 1)).sum(dim=1)\n",
        "    denum = (target == 1).sum(dim=1)\n",
        "    return (num/(denum + 1e-5)).mean().item()\n",
        "\n",
        "def exact_match(target, y_pred):\n",
        "    return (1.*(y_pred == target)).mean().item()"
      ],
      "metadata": {
        "id": "tgBsB48FM_zi",
        "trusted": true,
        "execution": {
          "iopub.status.busy": "2024-12-07T16:17:10.02674Z",
          "iopub.status.idle": "2024-12-07T16:17:10.027056Z",
          "shell.execute_reply.started": "2024-12-07T16:17:10.026904Z",
          "shell.execute_reply": "2024-12-07T16:17:10.026919Z"
        }
      },
      "outputs": [],
      "execution_count": null
    },
    {
      "cell_type": "markdown",
      "source": [
        "Построим прогноз на тестовой выборке."
      ],
      "metadata": {
        "id": "eD9UeFECM_zi"
      }
    },
    {
      "cell_type": "code",
      "source": [
        "test_dataloader = DataLoader(test_dataset, shuffle=False, batch_size=test_dataset.__len__())\n",
        "\n",
        "for title, target in test_dataloader:\n",
        "    logit = model_baseline(title)\n",
        "    pred_prob = F.softmax(logit, dim=1)\n",
        "\n",
        "assert pred_prob.shape[0] == test_dataset.__len__()"
      ],
      "metadata": {
        "id": "JHHDcGUDM_zi",
        "trusted": true,
        "execution": {
          "iopub.status.busy": "2024-12-07T16:17:10.029581Z",
          "iopub.status.idle": "2024-12-07T16:17:10.029926Z",
          "shell.execute_reply.started": "2024-12-07T16:17:10.029762Z",
          "shell.execute_reply": "2024-12-07T16:17:10.029779Z"
        }
      },
      "outputs": [],
      "execution_count": null
    },
    {
      "cell_type": "markdown",
      "source": [
        "Теперь выбирая различное значение порога, мы можем получать разные предсказания. Если взять очень большое значение порога, то метрики сильно просядут, так как во многих документах никакого прогноза не будет построено вообще."
      ],
      "metadata": {
        "id": "mzbiK9llM_zi"
      }
    },
    {
      "cell_type": "code",
      "source": [
        "TRESHOLD = 0.01\n",
        "y_pred = 1*(pred_prob > TRESHOLD)\n",
        "\n",
        "print('Exact Match:', exact_match(target, y_pred))\n",
        "print('Precision:', precision(target, y_pred))\n",
        "print('Recall:', recall(target, y_pred))"
      ],
      "metadata": {
        "id": "v2UI7GKqM_zj",
        "trusted": true,
        "execution": {
          "iopub.status.busy": "2024-12-07T16:17:10.033272Z",
          "iopub.status.idle": "2024-12-07T16:17:10.033786Z",
          "shell.execute_reply.started": "2024-12-07T16:17:10.033528Z",
          "shell.execute_reply": "2024-12-07T16:17:10.033554Z"
        }
      },
      "outputs": [],
      "execution_count": null
    },
    {
      "cell_type": "code",
      "source": [
        "TRESHOLD = 0.05\n",
        "y_pred = 1*(pred_prob > TRESHOLD)\n",
        "\n",
        "print('Exact Match:', exact_match(target, y_pred))\n",
        "print('Precision:', precision(target, y_pred))\n",
        "print('Recall:', recall(target, y_pred))"
      ],
      "metadata": {
        "id": "6v3CTYheM_zj",
        "trusted": true,
        "execution": {
          "iopub.status.busy": "2024-12-07T16:17:10.037306Z",
          "iopub.status.idle": "2024-12-07T16:17:10.037839Z",
          "shell.execute_reply.started": "2024-12-07T16:17:10.037557Z",
          "shell.execute_reply": "2024-12-07T16:17:10.037583Z"
        }
      },
      "outputs": [],
      "execution_count": null
    },
    {
      "cell_type": "code",
      "source": [
        "TRESHOLD = 0.9\n",
        "y_pred = 1*(pred_prob > TRESHOLD)\n",
        "\n",
        "print('Exact Match:', exact_match(target, y_pred))\n",
        "print('Precision:', precision(target, y_pred))\n",
        "print('Recall:', recall(target, y_pred))"
      ],
      "metadata": {
        "id": "7mokX9IVM_zj",
        "trusted": true,
        "execution": {
          "iopub.status.busy": "2024-12-07T16:17:10.041559Z",
          "iopub.status.idle": "2024-12-07T16:17:10.042069Z",
          "shell.execute_reply.started": "2024-12-07T16:17:10.041812Z",
          "shell.execute_reply": "2024-12-07T16:17:10.041839Z"
        }
      },
      "outputs": [],
      "execution_count": null
    },
    {
      "cell_type": "markdown",
      "source": [
        "Дальше мы будем строить довольно много прогнозов. Давайте напишем код для их строительства в виде функции. Обратите внимание, что на модели со снипетом она упадёт. Когда вы доберётесь до строительства прогнозов, функцию придётся немного модернизировать."
      ],
      "metadata": {
        "id": "IUWFt7jjM_zj"
      }
    },
    {
      "cell_type": "code",
      "source": [
        "def get_predict(model, dataset):\n",
        "    dataloader = DataLoader(dataset, shuffle=False, batch_size=dataset.__len__())\n",
        "\n",
        "    for title, target in dataloader:\n",
        "        logit = model(title)\n",
        "        pred_prob = F.softmax(logit, dim=1)\n",
        "\n",
        "    assert pred_prob.shape[0] == dataset.__len__()\n",
        "    return pred_prob, target"
      ],
      "metadata": {
        "id": "B3YFX4d2M_zk",
        "trusted": true,
        "execution": {
          "iopub.status.busy": "2024-12-07T16:17:10.04565Z",
          "iopub.status.idle": "2024-12-07T16:17:10.046143Z",
          "shell.execute_reply.started": "2024-12-07T16:17:10.045894Z",
          "shell.execute_reply": "2024-12-07T16:17:10.045918Z"
        }
      },
      "outputs": [],
      "execution_count": null
    },
    {
      "cell_type": "markdown",
      "source": [
        "__[0.5 балла] Задание 5:__ Какая метрика для нас в этой задаче важнее? Точность или полнота? Почему?\n",
        "\n",
        "\n",
        "\n",
        "__ваш ответ:__"
      ],
      "metadata": {
        "id": "g0n493n_M_zk"
      }
    },
    {
      "cell_type": "markdown",
      "source": [
        "- Напишите функцию, которая будет подбирать оптимальное значение порога, оптимизирующее выбранную вами метрику.\n",
        "\n",
        "- Подберите значение порога на валидационной выборке.\n",
        "\n",
        "- Сравните модель со сниппетами и без сниппетов, используя выбранную вами метрику при оптимальном значении порога на тестовой выборке.\n",
        "\n",
        "- Какая из них оказалась лучше?"
      ],
      "metadata": {
        "id": "6TFEvxI6M_zk"
      }
    },
    {
      "cell_type": "code",
      "source": [
        "# your code here\n",
        "# (＠_＠)"
      ],
      "metadata": {
        "id": "BCq67JmUM_zl",
        "trusted": true,
        "execution": {
          "iopub.status.busy": "2024-12-07T16:17:10.051611Z",
          "iopub.status.idle": "2024-12-07T16:17:10.052124Z",
          "shell.execute_reply.started": "2024-12-07T16:17:10.051857Z",
          "shell.execute_reply": "2024-12-07T16:17:10.051883Z"
        }
      },
      "outputs": [],
      "execution_count": null
    },
    {
      "cell_type": "markdown",
      "source": [
        "__[0.5 балла] Задание 6:__  Постройте прогнозы для отложенной выборки, которая представляет из себя пересечение сайта РИА-новостей и ВКонтакте. Проседает ли на ней качество модели? Насколько сильно?"
      ],
      "metadata": {
        "id": "o-QRc-UXM_zl"
      }
    },
    {
      "cell_type": "code",
      "source": [
        "df_oob.head()"
      ],
      "metadata": {
        "id": "3Tc02SgLM_zl",
        "trusted": true,
        "execution": {
          "iopub.status.busy": "2024-12-07T16:17:10.055464Z",
          "iopub.status.idle": "2024-12-07T16:17:10.055983Z",
          "shell.execute_reply.started": "2024-12-07T16:17:10.055719Z",
          "shell.execute_reply": "2024-12-07T16:17:10.055745Z"
        }
      },
      "outputs": [],
      "execution_count": null
    },
    {
      "cell_type": "code",
      "source": [
        "# your code here\n",
        "# (❍ᴥ❍ʋ)"
      ],
      "metadata": {
        "id": "1Z5AvLtcM_zl",
        "trusted": true,
        "execution": {
          "iopub.status.busy": "2024-12-07T16:17:10.060457Z",
          "iopub.status.idle": "2024-12-07T16:17:10.060993Z",
          "shell.execute_reply.started": "2024-12-07T16:17:10.060722Z",
          "shell.execute_reply": "2024-12-07T16:17:10.060747Z"
        }
      },
      "outputs": [],
      "execution_count": null
    },
    {
      "cell_type": "markdown",
      "source": [
        "Давайте модернизируем наши архитектуры настолько, насколько это возможно.\n",
        "\n",
        "\n",
        "\n",
        "__[0.9 балла] Бонусное задание 1:__ Попробуйте собрать более большую архитектуру. Например, сразу после слоя эмбеддингов вы можете попробовать добавить свёрточные слои (`Conv1D` свёртки). Поиграйте с оптимизатором и тп.\n",
        "\n",
        "\n",
        "\n",
        "Опишите результаты своих экспериментов ниже. Расскажите, что конкретно вы делали и удалось ли вам улучшить качество модели. Все траектории обучения залоггируйте на WandB.   "
      ],
      "metadata": {
        "id": "EmFzWAHtM_zl"
      }
    },
    {
      "cell_type": "markdown",
      "source": [
        "__Ваш лог экспериментов:__\n",
        "\n",
        "\n",
        "\n",
        "-\n",
        "\n",
        "-\n",
        "\n",
        "-"
      ],
      "metadata": {
        "id": "obvk588CM_zl"
      }
    },
    {
      "cell_type": "code",
      "source": [
        "# your code here\n",
        "# (⊙_⊙)"
      ],
      "metadata": {
        "id": "mII3wWHOM_zl",
        "trusted": true,
        "execution": {
          "iopub.status.busy": "2024-12-07T16:17:10.064847Z",
          "iopub.status.idle": "2024-12-07T16:17:10.065203Z",
          "shell.execute_reply.started": "2024-12-07T16:17:10.065033Z",
          "shell.execute_reply": "2024-12-07T16:17:10.065051Z"
        }
      },
      "outputs": [],
      "execution_count": null
    },
    {
      "cell_type": "markdown",
      "source": [
        "__[0.9 балла] Бонусное задание 2:__ Скачайте с сайта [Rusvectores](https://rusvectores.org/ru/models/) любые новостные word2vec эмбединги. Возьмите из модели эмбеддинги для всех слов, которые встречаются вв вашем словаре и добавьте их в модель первым слоем. Заморозьте этот слой и не обновляйте в нём веса. Если у вас в словаре есть слово, но его нет среди предобученных эмбеддингов, замените его на токен `#UNKN`."
      ],
      "metadata": {
        "id": "7kMKmn72M_zl"
      }
    },
    {
      "cell_type": "markdown",
      "source": [
        "__Ваш лог экспериментов:__\n",
        "\n",
        "\n",
        "\n",
        "-\n",
        "\n",
        "-\n",
        "\n",
        "-"
      ],
      "metadata": {
        "id": "k9ldlZ5gM_zl"
      }
    },
    {
      "cell_type": "code",
      "source": [
        "# your code here\n",
        "# =^･ｪ･^="
      ],
      "metadata": {
        "id": "XoIlDPe0M_zl",
        "trusted": true,
        "execution": {
          "iopub.status.busy": "2024-12-07T16:17:10.067849Z",
          "iopub.status.idle": "2024-12-07T16:17:10.068167Z",
          "shell.execute_reply.started": "2024-12-07T16:17:10.068014Z",
          "shell.execute_reply": "2024-12-07T16:17:10.068029Z"
        }
      },
      "outputs": [],
      "execution_count": null
    },
    {
      "cell_type": "markdown",
      "source": [
        "__[1.5 балла] Задание 7:__ Зафайнтьюньте трансформер для решения задачи с помощью библиотеки `hugging face`. Выбор предобученной модели кратко обоснуйте."
      ],
      "metadata": {
        "id": "w8ziz2ATM_zl"
      }
    },
    {
      "cell_type": "markdown",
      "source": [
        "__Ваш лог экспериментов:__\n",
        "\n",
        "\n",
        "\n",
        "-\n",
        "\n",
        "-\n",
        "\n",
        "-"
      ],
      "metadata": {
        "id": "GoVv-AS4M_zl"
      }
    },
    {
      "cell_type": "code",
      "source": [
        "# your code here\n",
        "# ٩(ˊ〇ˋ*)و"
      ],
      "metadata": {
        "id": "Dg02xRLrM_zl",
        "trusted": true,
        "execution": {
          "iopub.status.busy": "2024-12-07T16:17:10.070344Z",
          "iopub.status.idle": "2024-12-07T16:17:10.070714Z",
          "shell.execute_reply.started": "2024-12-07T16:17:10.07053Z",
          "shell.execute_reply": "2024-12-07T16:17:10.070551Z"
        }
      },
      "outputs": [],
      "execution_count": null
    },
    {
      "cell_type": "markdown",
      "source": [
        "Сравните все обученные модели между собой на тестовой выборке."
      ],
      "metadata": {
        "id": "vt8mcUllUmM8"
      }
    },
    {
      "cell_type": "code",
      "source": [
        "# your code here\n",
        "# (⌐■_■)"
      ],
      "metadata": {
        "id": "Kq-sVD7HUkz3",
        "trusted": true,
        "execution": {
          "iopub.status.busy": "2024-12-07T16:17:10.074067Z",
          "iopub.status.idle": "2024-12-07T16:17:10.074398Z",
          "shell.execute_reply.started": "2024-12-07T16:17:10.074242Z",
          "shell.execute_reply": "2024-12-07T16:17:10.074258Z"
        }
      },
      "outputs": [],
      "execution_count": null
    },
    {
      "cell_type": "markdown",
      "source": [
        "## Часть 2: предсказание категорий (0.5 балла)\n",
        "\n",
        "\n",
        "\n",
        "**[0.5 балла] Задание 8:** Возьмите датасет `df_vk` и для всех новостей из него предскажите категории с помощью лучшей, получившейся у вас модели."
      ],
      "metadata": {
        "id": "SoCALHfJM_zm"
      }
    },
    {
      "cell_type": "code",
      "source": [
        "df_vk['target_tags'] = [[0]]*df_vk.shape[0]\n",
        "\n",
        "# your code here\n",
        "# (っ˘ڡ˘ς)"
      ],
      "metadata": {
        "id": "99fmOzZUM_zm",
        "trusted": true,
        "execution": {
          "iopub.status.busy": "2024-12-07T16:17:10.076719Z",
          "iopub.status.idle": "2024-12-07T16:17:10.077051Z",
          "shell.execute_reply.started": "2024-12-07T16:17:10.076888Z",
          "shell.execute_reply": "2024-12-07T16:17:10.076905Z"
        }
      },
      "outputs": [],
      "execution_count": null
    },
    {
      "cell_type": "markdown",
      "source": [
        "На всякий случай сохраните табличку с получившимися у вас предсказаниями. Мало ли, вы не доделаете последнее задание, а потом захотите вернуться к нему. Не прогонять же обучение нейросети и инференс по второму кругу..."
      ],
      "metadata": {
        "id": "qpw07S0UM_zm"
      }
    },
    {
      "cell_type": "code",
      "source": [
        "# Ваш код с сохранением данных\n",
        "\n",
        "# your code here\n",
        "# ¯\\_(ツ)_/¯"
      ],
      "metadata": {
        "id": "alIF9U2tM_zm",
        "trusted": true,
        "execution": {
          "iopub.status.busy": "2024-12-07T16:17:10.08083Z",
          "iopub.status.idle": "2024-12-07T16:17:10.081331Z",
          "shell.execute_reply.started": "2024-12-07T16:17:10.08107Z",
          "shell.execute_reply": "2024-12-07T16:17:10.081096Z"
        }
      },
      "outputs": [],
      "execution_count": null
    },
    {
      "cell_type": "markdown",
      "source": [
        "## Часть 3: сентимент-классификатор (1.5 балла)"
      ],
      "metadata": {
        "id": "H_jo72yzM_zm"
      }
    },
    {
      "cell_type": "markdown",
      "source": [
        "В этой части тетрадки нам предстоит прогнать все комментарии из ВК через сентимент-классификатор. Мы будем делать это с помощью библиотеки HuggingFace. В ней есть удобная [функциональность pipline,](https://huggingface.co/docs/transformers/pipeline_tutorial) чтобы прогонять на своих данных уже обученные модели. 🤗🤗🤗"
      ],
      "metadata": {
        "id": "uI33vB5bM_zm"
      }
    },
    {
      "cell_type": "code",
      "source": [
        "df_comments.head()"
      ],
      "metadata": {
        "id": "4VEwMUYxM_zm",
        "trusted": true,
        "execution": {
          "iopub.status.busy": "2024-12-07T16:17:10.084865Z",
          "iopub.status.idle": "2024-12-07T16:17:10.085357Z",
          "shell.execute_reply.started": "2024-12-07T16:17:10.085098Z",
          "shell.execute_reply": "2024-12-07T16:17:10.085124Z"
        }
      },
      "outputs": [],
      "execution_count": null
    },
    {
      "cell_type": "markdown",
      "source": [
        "**[1.5 балла] Задание 9:** Для классификации комментариев на позитивные, негативные и нейтральные будем использовать [модель, о которой можно почитать по ссылке](https://huggingface.co/seara/rubert-tiny2-russian-sentiment)\n",
        "\n",
        "\n",
        "\n",
        "Ответьте на следующие вопросы:\n",
        "\n",
        "\n",
        "\n",
        "1. Как зовут автора модели?\n",
        "\n",
        "2. Как выглядит архитектура модели? Насколько модель большая?\n",
        "\n",
        "3. На каких данных обучена модель? Адекватно ли использовать её для классификации комментариев ВК?"
      ],
      "metadata": {
        "id": "3gVL29D3M_zm"
      }
    },
    {
      "cell_type": "markdown",
      "source": [
        "Установим библиотеку. 🤗🤗🤗"
      ],
      "metadata": {
        "id": "hedd3_EAM_zm"
      }
    },
    {
      "cell_type": "code",
      "source": [
        "!pip3 install transformers"
      ],
      "metadata": {
        "id": "-ZCfZ0ZfM_zm",
        "trusted": true,
        "execution": {
          "iopub.status.busy": "2024-12-07T16:17:10.089202Z",
          "iopub.status.idle": "2024-12-07T16:17:10.089554Z",
          "shell.execute_reply.started": "2024-12-07T16:17:10.089369Z",
          "shell.execute_reply": "2024-12-07T16:17:10.089384Z"
        }
      },
      "outputs": [],
      "execution_count": null
    },
    {
      "cell_type": "markdown",
      "source": [
        "**Варнинг:** в этом задании не обязательно ждать, пока код проскорит весь датасет - это долго. Напишите код, проверьте, что он корректно работает - проскорьте пару десятков строк датасета и принтаните их. Дальше вы можете взять уже проскоренный датасет. Возможно, кто-то проскорит все раньше остальных и захочет поделиться результатом. Вот его разрешается взять, как готовый результат выполнения задания. Главное - покажите, что ваш код тоже работает."
      ],
      "metadata": {
        "id": "1kL6JFJb7DlM"
      }
    },
    {
      "cell_type": "markdown",
      "source": [
        "Разберитесь как можно прогнать модель на корпусе комментариев и сделайте это. Да, с помощью pipeline можно запустить довольно сложные модели, обученные другими людьми в пару строчек. При объявлении модели не забудьте положить её на нужный `device` 🤗🤗🤗"
      ],
      "metadata": {
        "id": "4cDtjMFaM_zm"
      }
    },
    {
      "cell_type": "code",
      "source": [
        "# your code here\n",
        "# ʕ•ᴥ•ʔ"
      ],
      "metadata": {
        "id": "sEfhf12pM_zm",
        "trusted": true,
        "execution": {
          "iopub.status.busy": "2024-12-07T16:17:10.09224Z",
          "iopub.status.idle": "2024-12-07T16:17:10.092584Z",
          "shell.execute_reply.started": "2024-12-07T16:17:10.092398Z",
          "shell.execute_reply": "2024-12-07T16:17:10.092414Z"
        }
      },
      "outputs": [],
      "execution_count": null
    },
    {
      "cell_type": "markdown",
      "source": [
        "Цикл для сентимент-анализа комментариев может работать довольно долго. Я крайне рекомендую вам переодически сохранять к себе на компьютер промежуточные результаты. Итоговый результат я рекомендую записать отдельным столбиком в таблицу с комментариями, а затем сохранить полученные результаты. 🤗🤗🤗"
      ],
      "metadata": {
        "id": "5XmrUVvhM_zm"
      }
    },
    {
      "cell_type": "code",
      "source": [
        "df_vk['sentiment_verdict'] = ...\n",
        "df_vk['sentiment_score'] = ...\n",
        "\n",
        "# <ваш код для сохранения данных>\n",
        "\n",
        "# your code here\n",
        "# ¯\\_(ツ)_/¯"
      ],
      "metadata": {
        "id": "jYpqlGahM_zm",
        "trusted": true,
        "execution": {
          "iopub.status.busy": "2024-12-07T16:17:10.093917Z",
          "iopub.status.idle": "2024-12-07T16:17:10.094266Z",
          "shell.execute_reply.started": "2024-12-07T16:17:10.09409Z",
          "shell.execute_reply": "2024-12-07T16:17:10.094107Z"
        }
      },
      "outputs": [],
      "execution_count": null
    },
    {
      "cell_type": "markdown",
      "source": [
        "## Часть 4: аналитика (3 балла + 0.2 бонусных)\n",
        "\n",
        "\n",
        "\n",
        "Мы с вами огромные молодцы. Мы обучили модель для категоризации новостей, построили с её помощью прогнозы. Мы проскорили комментарии на их сентимент-окрас. Теперь давайте проанализируем новости. Описывайте полученные результаты таким образом, чтобы не получить уголовку на 5 лет за дискредитацию чего-нибудь или оскорбление чувств кого-нибудь 💜"
      ],
      "metadata": {
        "id": "smRVE1hVM_zn"
      }
    },
    {
      "cell_type": "markdown",
      "source": [
        "__[0.6 балла] Задание 10:__ Какая доля комментариев позитивная? Какая доля комментариев негативная? Выведите 10 самых позитивных комментариев.\n",
        "\n",
        "\n",
        "\n",
        "Выведите 10 самых негативных комментариев, поугарайте с них. Удалите их вывод из тетрадки. Никто не должен их видеть, это должно остаться только между нами. Поззитивные не удаляйте. Они пусть останутся."
      ],
      "metadata": {
        "id": "7z-jdjgeM_zn"
      }
    },
    {
      "cell_type": "code",
      "source": [
        "# your code here\n",
        "# ʕ•ᴥ•ʔ"
      ],
      "metadata": {
        "id": "EqOwlAusM_zn",
        "trusted": true,
        "execution": {
          "iopub.status.busy": "2024-12-07T16:17:10.095809Z",
          "iopub.status.idle": "2024-12-07T16:17:10.096163Z",
          "shell.execute_reply.started": "2024-12-07T16:17:10.09599Z",
          "shell.execute_reply": "2024-12-07T16:17:10.096007Z"
        }
      },
      "outputs": [],
      "execution_count": null
    },
    {
      "cell_type": "markdown",
      "source": [
        "__[0.6 балла] Задание 11:__ Для каждой новости из датасета посчитайте количество негативных и позитивных комментариев под ней. Сохраните эти количества в виде новых колонок."
      ],
      "metadata": {
        "id": "SGfBQto1M_zn"
      }
    },
    {
      "cell_type": "code",
      "source": [
        "# your code here\n",
        "# [✖‿✖]"
      ],
      "metadata": {
        "id": "WNySt0w7M_zn",
        "trusted": true,
        "execution": {
          "iopub.status.busy": "2024-12-07T16:17:10.098228Z",
          "iopub.status.idle": "2024-12-07T16:17:10.098772Z",
          "shell.execute_reply.started": "2024-12-07T16:17:10.098462Z",
          "shell.execute_reply": "2024-12-07T16:17:10.098486Z"
        }
      },
      "outputs": [],
      "execution_count": null
    },
    {
      "cell_type": "markdown",
      "source": [
        "__[0.6 балла] Задание 12:__ Правда ли, что новости с большим количеством лайков получают больше негативных комментариев? А позитивных? Правда ли, что чем больше лайков, тем под новостью больше комментариев?\n",
        "\n",
        "\n",
        "\n",
        "Постройте визуализацию, которая могла бы это проиллюстрировать."
      ],
      "metadata": {
        "id": "jBOzB5yBM_zn"
      }
    },
    {
      "cell_type": "code",
      "source": [
        "# your code here\n",
        "# ┌(ಠ_ಠ)┘"
      ],
      "metadata": {
        "id": "UjI74lt5M_zn",
        "trusted": true,
        "execution": {
          "iopub.status.busy": "2024-12-07T16:17:10.100437Z",
          "iopub.status.idle": "2024-12-07T16:17:10.100961Z",
          "shell.execute_reply.started": "2024-12-07T16:17:10.100697Z",
          "shell.execute_reply": "2024-12-07T16:17:10.100722Z"
        }
      },
      "outputs": [],
      "execution_count": null
    },
    {
      "cell_type": "markdown",
      "source": [
        "__[0.6 балла] Задание 13:__  Давайте построим по сентимент-окрасу комментариев топ позитивных новостей.\n",
        "\n",
        "\n",
        "\n",
        "- Если под новостью оставлено 100 комментариев, из которых 80 позитивные, мы можем быть уверены в том, что новость была хорошо воспринята людьми.\n",
        "\n",
        "- Если под новостью всего один комментарий и он оказался позитивным, то у нас 100% позитивных комментариев, но это вовсе не означает, что новость была воспринята хорошо.\n",
        "\n",
        "\n",
        "\n",
        "Получается, что сортировать по доле позитивных комментариев нельзя. Давайте поступим умнее. Доля позитивных комментариев под постом -- это случайная величина. Её довольно часто моделируют с помощью бета-распределения. Если это случайная величина, мы можем построить для неё предиктивный интервал. Пусть $u$ - число позитивных комментариев, а $d$ - нейтральных и негативных.  Пусть\n",
        "\n",
        "\n",
        "\n",
        "$$\n",
        "\n",
        "a = 1 + u \\qquad b = 1 + d.\n",
        "\n",
        "$$\n",
        "\n",
        "\n",
        "\n",
        "Тогда нижняя граница $95\\%$ предиктивного интервала для доли будет вычисляться по такой формуле:\n",
        "\n",
        "\n",
        "\n",
        "$$\n",
        "\n",
        "\\frac{a}{a + b} - 1.65 \\cdot \\sqrt{\\frac{a \\cdot b}{(a + b)^2 \\cdot (a + b + 1)}}\n",
        "\n",
        "$$\n",
        "\n",
        "\n",
        "\n",
        "Если под новостью был всего один комментарий, у такой случайной величины будет высокая дисперсия. Это означаeт, что штука, которую мы вычитаем из доли, окажется высокой. Левая граница интервала окажется маленькой и мы не поднимем комментарий в нашем топе наверх. Фактически мы делаем сортировку по квантилю уровня $0.05$ вместо среднего.\n",
        "\n",
        "\n",
        "\n",
        "От вас требуется вбить эту формулу, сделать сортировку и вывести на экран топ позитивных новостей. Подробнее про то, откуда берётся эта формула можно почитать [в этой книге.](https://disk.yandex.ru/i/Ctd08bTwC9eI3g) Ищите 4 главу, страницу 140."
      ],
      "metadata": {
        "id": "3wN5AFrAM_zn"
      }
    },
    {
      "cell_type": "code",
      "source": [
        "# your code here\n",
        "# ฅ^•ﻌ•^ฅ"
      ],
      "metadata": {
        "id": "ToygzCZwM_zn",
        "trusted": true,
        "execution": {
          "iopub.status.busy": "2024-12-07T16:17:10.103067Z",
          "iopub.status.idle": "2024-12-07T16:17:10.103395Z",
          "shell.execute_reply.started": "2024-12-07T16:17:10.10324Z",
          "shell.execute_reply": "2024-12-07T16:17:10.103256Z"
        }
      },
      "outputs": [],
      "execution_count": null
    },
    {
      "cell_type": "markdown",
      "source": [
        "Построили? Срочно пришлите свою любимую позитивную  новость в общий чат!!!\n",
        "\n",
        "\n",
        "\n",
        "Топ негативных новостей строить не будем. Вокруг итак слишком много негатива 😻😻😻"
      ],
      "metadata": {
        "id": "8CuDk6kbM_zn"
      }
    },
    {
      "cell_type": "markdown",
      "source": [
        "__[0.6 балла] Задание 14:__ Какие категории новостей оказались самыми позитивными? Придумайте способ найти такие категории и опишите его тут.\n",
        "\n",
        "\n",
        "\n",
        "__Ответ:__"
      ],
      "metadata": {
        "id": "Gg_wCzsBM_zn"
      }
    },
    {
      "cell_type": "code",
      "source": [
        "# your code here\n",
        "# ٩(⁎❛ᴗ❛⁎)۶"
      ],
      "metadata": {
        "id": "SNEWqGVpM_zn",
        "trusted": true,
        "execution": {
          "iopub.status.busy": "2024-12-07T16:17:10.105065Z",
          "iopub.status.idle": "2024-12-07T16:17:10.105413Z",
          "shell.execute_reply.started": "2024-12-07T16:17:10.105245Z",
          "shell.execute_reply": "2024-12-07T16:17:10.105262Z"
        }
      },
      "outputs": [],
      "execution_count": null
    },
    {
      "cell_type": "markdown",
      "source": [
        "__[0.2 балла] Бонусное задание 3:__ Проанализируйте, как температура комментария (вероятность того, что он негативный) зависит от длины трэда (число комментариев под новостью)? Значима ли эта взаимосвязь? Если вам для проверки этого хочется построить линейную регрессию, не сдерживайтесь."
      ],
      "metadata": {
        "id": "gDFw6uQeM_zn"
      }
    },
    {
      "cell_type": "code",
      "source": [
        "# your code here\n",
        "# ヾ(๑╹◡╹)ﾉ"
      ],
      "metadata": {
        "id": "usdYfPV0M_zn",
        "trusted": true,
        "execution": {
          "iopub.status.busy": "2024-12-07T16:17:10.106614Z",
          "iopub.status.idle": "2024-12-07T16:17:10.107109Z",
          "shell.execute_reply.started": "2024-12-07T16:17:10.106853Z",
          "shell.execute_reply": "2024-12-07T16:17:10.106879Z"
        }
      },
      "outputs": [],
      "execution_count": null
    }
  ]
}