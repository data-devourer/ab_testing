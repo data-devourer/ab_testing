{
 "cells": [
  {
   "cell_type": "markdown",
   "id": "aa5ae5c0",
   "metadata": {},
   "source": [
    "## Задача:\n",
    "\n",
    "На сайте запущен А/В тест с целью увеличить общий доход. В приложенном Excel-файле (AB-test-raw-data.xlsx) содержатся сырые данные по результатам эксперимента (USER_ID), тип выборки (VARIANT_NAME) и доход, принесенный пользователем (REVENUE). \\\n",
    "Требуется провести анализ результатов эксперимента и на его основе предоставить рекомендации менеджеру."
   ]
  },
  {
   "cell_type": "markdown",
   "id": "6a524280",
   "metadata": {},
   "source": [
    "> __A/B-тест__ — это инструмент, который позволяет делать надёжные выводы о влиянии изменения на продукт, за счёт использования статистических методов и параллельного сбора данных для сравниваемых групп.\n",
    "\n",
    "В нашем случае сам эксперимент уже проведен. Задача заключается в том, чтобы интерпретировать результаты теста и сделать выводы о возможности внедрения изменения в работу нашего сервиса.\n",
    "\n",
    "## Получение данных"
   ]
  },
  {
   "cell_type": "code",
   "execution_count": 1,
   "id": "8cf84b60",
   "metadata": {},
   "outputs": [],
   "source": [
    "# Импортируем некоторые библиотеки\n",
    "import pandas as pd\n",
    "import numpy as np\n",
    "import matplotlib.pyplot as plt\n",
    "import scipy as sp\n",
    "import statsmodels.api as sm"
   ]
  },
  {
   "cell_type": "code",
   "execution_count": 2,
   "id": "dae91da3",
   "metadata": {},
   "outputs": [
    {
     "name": "stdout",
     "output_type": "stream",
     "text": [
      "<class 'pandas.core.frame.DataFrame'>\n",
      "RangeIndex: 10000 entries, 0 to 9999\n",
      "Data columns (total 3 columns):\n",
      " #   Column        Non-Null Count  Dtype  \n",
      "---  ------        --------------  -----  \n",
      " 0   USER_ID       10000 non-null  int64  \n",
      " 1   VARIANT_NAME  10000 non-null  object \n",
      " 2   REVENUE       10000 non-null  float64\n",
      "dtypes: float64(1), int64(1), object(1)\n",
      "memory usage: 234.5+ KB\n"
     ]
    },
    {
     "name": "stderr",
     "output_type": "stream",
     "text": [
      "/Users/ilnur/opt/anaconda3/lib/python3.9/site-packages/openpyxl/worksheet/_read_only.py:79: UserWarning: Unknown extension is not supported and will be removed\n",
      "  for idx, row in parser.parse():\n"
     ]
    },
    {
     "data": {
      "text/html": [
       "<div>\n",
       "<style scoped>\n",
       "    .dataframe tbody tr th:only-of-type {\n",
       "        vertical-align: middle;\n",
       "    }\n",
       "\n",
       "    .dataframe tbody tr th {\n",
       "        vertical-align: top;\n",
       "    }\n",
       "\n",
       "    .dataframe thead th {\n",
       "        text-align: right;\n",
       "    }\n",
       "</style>\n",
       "<table border=\"1\" class=\"dataframe\">\n",
       "  <thead>\n",
       "    <tr style=\"text-align: right;\">\n",
       "      <th></th>\n",
       "      <th>USER_ID</th>\n",
       "      <th>VARIANT_NAME</th>\n",
       "      <th>REVENUE</th>\n",
       "    </tr>\n",
       "  </thead>\n",
       "  <tbody>\n",
       "    <tr>\n",
       "      <th>0</th>\n",
       "      <td>737</td>\n",
       "      <td>variant</td>\n",
       "      <td>0.0</td>\n",
       "    </tr>\n",
       "    <tr>\n",
       "      <th>1</th>\n",
       "      <td>2423</td>\n",
       "      <td>control</td>\n",
       "      <td>0.0</td>\n",
       "    </tr>\n",
       "    <tr>\n",
       "      <th>2</th>\n",
       "      <td>9411</td>\n",
       "      <td>control</td>\n",
       "      <td>0.0</td>\n",
       "    </tr>\n",
       "    <tr>\n",
       "      <th>3</th>\n",
       "      <td>7311</td>\n",
       "      <td>control</td>\n",
       "      <td>0.0</td>\n",
       "    </tr>\n",
       "    <tr>\n",
       "      <th>4</th>\n",
       "      <td>6174</td>\n",
       "      <td>variant</td>\n",
       "      <td>0.0</td>\n",
       "    </tr>\n",
       "    <tr>\n",
       "      <th>...</th>\n",
       "      <td>...</td>\n",
       "      <td>...</td>\n",
       "      <td>...</td>\n",
       "    </tr>\n",
       "    <tr>\n",
       "      <th>9995</th>\n",
       "      <td>1981</td>\n",
       "      <td>control</td>\n",
       "      <td>0.0</td>\n",
       "    </tr>\n",
       "    <tr>\n",
       "      <th>9996</th>\n",
       "      <td>502</td>\n",
       "      <td>variant</td>\n",
       "      <td>0.0</td>\n",
       "    </tr>\n",
       "    <tr>\n",
       "      <th>9997</th>\n",
       "      <td>9214</td>\n",
       "      <td>variant</td>\n",
       "      <td>0.0</td>\n",
       "    </tr>\n",
       "    <tr>\n",
       "      <th>9998</th>\n",
       "      <td>7741</td>\n",
       "      <td>control</td>\n",
       "      <td>0.0</td>\n",
       "    </tr>\n",
       "    <tr>\n",
       "      <th>9999</th>\n",
       "      <td>9468</td>\n",
       "      <td>control</td>\n",
       "      <td>0.0</td>\n",
       "    </tr>\n",
       "  </tbody>\n",
       "</table>\n",
       "<p>10000 rows × 3 columns</p>\n",
       "</div>"
      ],
      "text/plain": [
       "      USER_ID VARIANT_NAME  REVENUE\n",
       "0         737      variant      0.0\n",
       "1        2423      control      0.0\n",
       "2        9411      control      0.0\n",
       "3        7311      control      0.0\n",
       "4        6174      variant      0.0\n",
       "...       ...          ...      ...\n",
       "9995     1981      control      0.0\n",
       "9996      502      variant      0.0\n",
       "9997     9214      variant      0.0\n",
       "9998     7741      control      0.0\n",
       "9999     9468      control      0.0\n",
       "\n",
       "[10000 rows x 3 columns]"
      ]
     },
     "execution_count": 2,
     "metadata": {},
     "output_type": "execute_result"
    }
   ],
   "source": [
    "# Считаем предоставленные в формате Excel данные\n",
    "data = pd.read_excel('/Users/ilnur/Downloads/AB-test-raw-data.xlsx') # <-- следует указать путь к файлу\n",
    "\n",
    "# Окинем взглядом наши данные\n",
    "data.info()\n",
    "data"
   ]
  },
  {
   "cell_type": "markdown",
   "id": "056a93c1",
   "metadata": {},
   "source": [
    "Также стоит отметить, что данные не нуждаются в преобразованиях или изменении формата. Мы можем начать анализировать данные в их текущем виде.\n",
    "\n",
    "---\n",
    "## Первичная оценка данных"
   ]
  },
  {
   "cell_type": "code",
   "execution_count": 3,
   "id": "8bf4d000",
   "metadata": {},
   "outputs": [
    {
     "name": "stdout",
     "output_type": "stream",
     "text": [
      "Количество сессий в контрольной группе: 4984\n",
      "Количество сессий в тестовой группе: 5016\n"
     ]
    }
   ],
   "source": [
    "# Для начала выделим контрольную и тестовую группы:\n",
    "control_group = data[data['VARIANT_NAME'] == 'control']\n",
    "variant_group = data[data['VARIANT_NAME'] == 'variant']\n",
    "\n",
    "\n",
    "# Посчитаем количество сессий в обеих группах\n",
    "print('Количество сессий в контрольной группе: {}\\n'\n",
    "      'Количество сессий в тестовой группе: {}'\n",
    ".format(len(control_group),\n",
    "        len(variant_group)))"
   ]
  },
  {
   "cell_type": "code",
   "execution_count": 4,
   "id": "4a3ee478",
   "metadata": {},
   "outputs": [
    {
     "name": "stdout",
     "output_type": "stream",
     "text": [
      "VARIANT_NAME\n",
      "control    643.00\n",
      "variant    351.47\n",
      "Name: REVENUE, dtype: float64\n"
     ]
    },
    {
     "data": {
      "image/png": "[encoded data removed]",
      "text/plain": [
       "<Figure size 640x480 with 1 Axes>"
      ]
     },
     "metadata": {},
     "output_type": "display_data"
    }
   ],
   "source": [
    "# Также не помешало бы узнать, как распределяется суммарный доход по группам\n",
    "total_revenue = data.groupby('VARIANT_NAME')['REVENUE'].sum()\n",
    "print(total_revenue)\n",
    "\n",
    "\n",
    "# Добавим визуализацию\n",
    "variant_revenue = data.groupby('VARIANT_NAME')['REVENUE'].sum()\n",
    "plt.bar(variant_revenue.index, variant_revenue.values, color=['#1E90FF', '#00B000'])\n",
    "plt.xlabel('Группа')\n",
    "plt.ylabel('Суммарный доход')\n",
    "plt.title('Суммарный доход по группам')\n",
    "plt.show()"
   ]
  },
  {
   "cell_type": "markdown",
   "id": "1149f83e",
   "metadata": {},
   "source": [
    "Неожиданно, суммарный доход в конторльной группе на порядок превышает доход в тестовой. В случае, если в данных нет ошибок, это могло бы означать, что эксперимент катастрофически сократил нашу выручку и раскатывать фичу однозначно не стоит. Однако не станем принимать поспешных решений и продолжим анализ."
   ]
  },
  {
   "cell_type": "code",
   "execution_count": 5,
   "id": "2540bc6d",
   "metadata": {},
   "outputs": [
    {
     "data": {
      "image/png": "[encoded data removed]",
      "text/plain": [
       "<Figure size 640x480 with 1 Axes>"
      ]
     },
     "metadata": {},
     "output_type": "display_data"
    }
   ],
   "source": [
    "# Посмотрим на распределение величины выручки в разрезе групп\n",
    "control_data = data[data['VARIANT_NAME'] == 'control']['REVENUE']\n",
    "variant_data = data[data['VARIANT_NAME'] == 'variant']['REVENUE']\n",
    "\n",
    "\n",
    "plt.boxplot([control_data, variant_data], labels=['Control', 'Variant'])\n",
    "plt.ylabel('Доход')\n",
    "plt.xlabel('Группа')\n",
    "plt.title('Сравнение дохода между группами')\n",
    "plt.show()"
   ]
  },
  {
   "cell_type": "markdown",
   "id": "146910b7",
   "metadata": {},
   "source": [
    "Оказалось, что в наших данных возник выброс: один из клиентов принес за сессию сразу около 200 единиц выручки, что значительно отличается от остальных нормальных значений метрики. \\\n",
    "Исключим экстримальное значение из данных, чтобы оно не исказило значение статистик. \n",
    "Исключение выброса позволяет убедиться, что тесты гипотез будут основаны на более типичных значениях.\n",
    "## Работа с выбросами"
   ]
  },
  {
   "cell_type": "code",
   "execution_count": 6,
   "id": "e3f33fd8",
   "metadata": {},
   "outputs": [],
   "source": [
    "excluded_value = max(control_data)\n",
    "control_data = control_data[control_data != excluded_value]\n",
    "data = data[data['REVENUE'] != excluded_value]\n",
    "\n",
    "control_group = data[data['VARIANT_NAME'] == 'control']\n",
    "variant_group = data[data['VARIANT_NAME'] == 'variant']"
   ]
  },
  {
   "cell_type": "code",
   "execution_count": 7,
   "id": "7b7ea076",
   "metadata": {
    "scrolled": false
   },
   "outputs": [
    {
     "data": {
      "image/png": "[encoded data removed]",
      "text/plain": [
       "<Figure size 640x480 with 1 Axes>"
      ]
     },
     "metadata": {},
     "output_type": "display_data"
    }
   ],
   "source": [
    "# Посмотрим на распределение после исключения выброса\n",
    "plt.boxplot([control_data, variant_data], labels=['Control', 'Variant'])\n",
    "plt.ylabel('Доход')\n",
    "plt.xlabel('Группа')\n",
    "plt.title('Сравнение дохода между группами')\n",
    "plt.show()"
   ]
  },
  {
   "cell_type": "markdown",
   "id": "4aef6d10",
   "metadata": {},
   "source": [
    "Ситуация немного улучшилась. \\\n",
    "Однако теперь мы можем заметить два аномальных значения в тестовой группе. Так как они значительно выходят за пределы нормальных значений, то будет разумным исключить и их из анализа."
   ]
  },
  {
   "cell_type": "code",
   "execution_count": 8,
   "id": "e07ec88b",
   "metadata": {},
   "outputs": [],
   "source": [
    "for i in range(2):\n",
    "    excluded_value = max(variant_data)\n",
    "    variant_data = variant_data[variant_data != excluded_value]\n",
    "    data = data[data['REVENUE'] != excluded_value]\n",
    "control_group = data[data['VARIANT_NAME'] == 'control']\n",
    "variant_group = data[data['VARIANT_NAME'] == 'variant']"
   ]
  },
  {
   "cell_type": "code",
   "execution_count": 9,
   "id": "e506eb79",
   "metadata": {},
   "outputs": [
    {
     "data": {
      "image/png": "[encoded data removed]",
      "text/plain": [
       "<Figure size 640x480 with 1 Axes>"
      ]
     },
     "metadata": {},
     "output_type": "display_data"
    }
   ],
   "source": [
    "# Посмотрим на распределение после исключения всех выбросов\n",
    "plt.boxplot([control_data, variant_data], labels=['Control', 'Variant'])\n",
    "plt.ylabel('Доход')\n",
    "plt.xlabel('Группа')\n",
    "plt.title('Сравнение дохода между группами')\n",
    "plt.show()"
   ]
  },
  {
   "cell_type": "markdown",
   "id": "fccf4264",
   "metadata": {},
   "source": [
    "Отлично, с такими данными уже можно работать!"
   ]
  },
  {
   "cell_type": "code",
   "execution_count": 10,
   "id": "deba0819",
   "metadata": {},
   "outputs": [
    {
     "name": "stdout",
     "output_type": "stream",
     "text": [
      "Средний доход в контрольной группе: 0.08970299016656635\n",
      "Средний доход в тестовой группе: 0.04694455524531313\n"
     ]
    }
   ],
   "source": [
    "# Рассчитаем средние значения\n",
    "control_mean = control_group['REVENUE'].mean()\n",
    "variant_mean = variant_group['REVENUE'].mean()\n",
    "print(f'Средний доход в контрольной группе: {control_mean}')\n",
    "print(f'Средний доход в тестовой группе: {variant_mean}')"
   ]
  },
  {
   "cell_type": "markdown",
   "id": "172236a3",
   "metadata": {},
   "source": [
    "Из полученных данных видно, __что сессии, на которых тестировались изменения, в среднем приносят компании меньше дохода, чем сессии, в которых таких изменений не было__. "
   ]
  },
  {
   "cell_type": "markdown",
   "id": "5cdcc67e",
   "metadata": {},
   "source": [
    "## Выбор подходящего теста\n",
    "\n",
    "Следующим этапом для нас становится проведение статистического теста, чтобы определить, действительно ли эти различия в доходах являются статистически значимыми.\n",
    "При выборе теста будем опираться на специфику анализируемых данных:\n",
    "1. __Тип метрики.__ Выручка — это количественная метрика, значит, выбор стоит между t-тестом и бакетным тестом.\n",
    "2. __Нормальность распределения.__ Распределение выручки за сессию, как и других денежных метрик, часто скошено, что понижает мощность t-теста (мы будем реже отвергать нулевую гипотезу, когда она на самом деле должна быть отвергнута). Это подталкивает нас к выбору бакетного теста.\n",
    "3. __Количество наблюдений.__ В нашем случае размер каждой из групп примерно равен 5000. Этого количества наблюдений достаточно для применения бакетного теста.\n",
    "\n",
    "Таким образом, наиболее подходящим вариантом для наших данных будет являться проведение __бакетного теста__. Разобьем данные в каждой выборке на __100 бакетов__ и вычислим среднее значение по каждому бакету. К полученным данным применяим __двухвыборочный t-тест__. \n",
    "\n",
    "## Трансформация данных"
   ]
  },
  {
   "cell_type": "code",
   "execution_count": 11,
   "id": "efcbb349",
   "metadata": {
    "scrolled": false
   },
   "outputs": [
    {
     "name": "stderr",
     "output_type": "stream",
     "text": [
      "/var/folders/84/r71blcnd0ydfkn2236j_0jk00000gn/T/ipykernel_8397/1002983396.py:3: SettingWithCopyWarning: \n",
      "A value is trying to be set on a copy of a slice from a DataFrame.\n",
      "Try using .loc[row_indexer,col_indexer] = value instead\n",
      "\n",
      "See the caveats in the documentation: https://pandas.pydata.org/pandas-docs/stable/user_guide/indexing.html#returning-a-view-versus-a-copy\n",
      "  control_group['BUCKET'] = np.tile(np.arange(1, bucket_number + 1), int(np.ceil(len(control_group) / bucket_number)))[:len(control_group)]\n",
      "/var/folders/84/r71blcnd0ydfkn2236j_0jk00000gn/T/ipykernel_8397/1002983396.py:4: SettingWithCopyWarning: \n",
      "A value is trying to be set on a copy of a slice from a DataFrame.\n",
      "Try using .loc[row_indexer,col_indexer] = value instead\n",
      "\n",
      "See the caveats in the documentation: https://pandas.pydata.org/pandas-docs/stable/user_guide/indexing.html#returning-a-view-versus-a-copy\n",
      "  variant_group['BUCKET'] = np.tile(np.arange(1, bucket_number + 1), int(np.ceil(len(variant_group) / bucket_number)))[:len(variant_group)]\n",
      "/var/folders/84/r71blcnd0ydfkn2236j_0jk00000gn/T/ipykernel_8397/1002983396.py:7: SettingWithCopyWarning: \n",
      "A value is trying to be set on a copy of a slice from a DataFrame.\n",
      "Try using .loc[row_indexer,col_indexer] = value instead\n",
      "\n",
      "See the caveats in the documentation: https://pandas.pydata.org/pandas-docs/stable/user_guide/indexing.html#returning-a-view-versus-a-copy\n",
      "  control_group['BUCKET'] = np.random.permutation(control_group['BUCKET'])\n",
      "/var/folders/84/r71blcnd0ydfkn2236j_0jk00000gn/T/ipykernel_8397/1002983396.py:8: SettingWithCopyWarning: \n",
      "A value is trying to be set on a copy of a slice from a DataFrame.\n",
      "Try using .loc[row_indexer,col_indexer] = value instead\n",
      "\n",
      "See the caveats in the documentation: https://pandas.pydata.org/pandas-docs/stable/user_guide/indexing.html#returning-a-view-versus-a-copy\n",
      "  variant_group['BUCKET'] = np.random.permutation(variant_group['BUCKET'])\n"
     ]
    },
    {
     "data": {
      "text/html": [
       "<div>\n",
       "<style scoped>\n",
       "    .dataframe tbody tr th:only-of-type {\n",
       "        vertical-align: middle;\n",
       "    }\n",
       "\n",
       "    .dataframe tbody tr th {\n",
       "        vertical-align: top;\n",
       "    }\n",
       "\n",
       "    .dataframe thead th {\n",
       "        text-align: right;\n",
       "    }\n",
       "</style>\n",
       "<table border=\"1\" class=\"dataframe\">\n",
       "  <thead>\n",
       "    <tr style=\"text-align: right;\">\n",
       "      <th></th>\n",
       "      <th>USER_ID</th>\n",
       "      <th>VARIANT_NAME</th>\n",
       "      <th>REVENUE</th>\n",
       "      <th>BUCKET</th>\n",
       "    </tr>\n",
       "  </thead>\n",
       "  <tbody>\n",
       "    <tr>\n",
       "      <th>1</th>\n",
       "      <td>2423</td>\n",
       "      <td>control</td>\n",
       "      <td>0.0</td>\n",
       "      <td>58</td>\n",
       "    </tr>\n",
       "    <tr>\n",
       "      <th>2</th>\n",
       "      <td>9411</td>\n",
       "      <td>control</td>\n",
       "      <td>0.0</td>\n",
       "      <td>54</td>\n",
       "    </tr>\n",
       "    <tr>\n",
       "      <th>3</th>\n",
       "      <td>7311</td>\n",
       "      <td>control</td>\n",
       "      <td>0.0</td>\n",
       "      <td>69</td>\n",
       "    </tr>\n",
       "    <tr>\n",
       "      <th>6</th>\n",
       "      <td>2849</td>\n",
       "      <td>control</td>\n",
       "      <td>0.0</td>\n",
       "      <td>73</td>\n",
       "    </tr>\n",
       "    <tr>\n",
       "      <th>7</th>\n",
       "      <td>9168</td>\n",
       "      <td>control</td>\n",
       "      <td>0.0</td>\n",
       "      <td>51</td>\n",
       "    </tr>\n",
       "    <tr>\n",
       "      <th>...</th>\n",
       "      <td>...</td>\n",
       "      <td>...</td>\n",
       "      <td>...</td>\n",
       "      <td>...</td>\n",
       "    </tr>\n",
       "    <tr>\n",
       "      <th>9991</th>\n",
       "      <td>8864</td>\n",
       "      <td>variant</td>\n",
       "      <td>0.0</td>\n",
       "      <td>95</td>\n",
       "    </tr>\n",
       "    <tr>\n",
       "      <th>9992</th>\n",
       "      <td>9303</td>\n",
       "      <td>variant</td>\n",
       "      <td>0.0</td>\n",
       "      <td>77</td>\n",
       "    </tr>\n",
       "    <tr>\n",
       "      <th>9993</th>\n",
       "      <td>2400</td>\n",
       "      <td>variant</td>\n",
       "      <td>0.0</td>\n",
       "      <td>63</td>\n",
       "    </tr>\n",
       "    <tr>\n",
       "      <th>9996</th>\n",
       "      <td>502</td>\n",
       "      <td>variant</td>\n",
       "      <td>0.0</td>\n",
       "      <td>85</td>\n",
       "    </tr>\n",
       "    <tr>\n",
       "      <th>9997</th>\n",
       "      <td>9214</td>\n",
       "      <td>variant</td>\n",
       "      <td>0.0</td>\n",
       "      <td>77</td>\n",
       "    </tr>\n",
       "  </tbody>\n",
       "</table>\n",
       "<p>9997 rows × 4 columns</p>\n",
       "</div>"
      ],
      "text/plain": [
       "      USER_ID VARIANT_NAME  REVENUE  BUCKET\n",
       "1        2423      control      0.0      58\n",
       "2        9411      control      0.0      54\n",
       "3        7311      control      0.0      69\n",
       "6        2849      control      0.0      73\n",
       "7        9168      control      0.0      51\n",
       "...       ...          ...      ...     ...\n",
       "9991     8864      variant      0.0      95\n",
       "9992     9303      variant      0.0      77\n",
       "9993     2400      variant      0.0      63\n",
       "9996      502      variant      0.0      85\n",
       "9997     9214      variant      0.0      77\n",
       "\n",
       "[9997 rows x 4 columns]"
      ]
     },
     "execution_count": 11,
     "metadata": {},
     "output_type": "execute_result"
    }
   ],
   "source": [
    "# Распределим сессии по бакетам с сохранением равного количества в каждом\n",
    "bucket_number = 100\n",
    "control_group['BUCKET'] = np.tile(np.arange(1, bucket_number + 1), int(np.ceil(len(control_group) / bucket_number)))[:len(control_group)]\n",
    "variant_group['BUCKET'] = np.tile(np.arange(1, bucket_number + 1), int(np.ceil(len(variant_group) / bucket_number)))[:len(variant_group)]\n",
    "\n",
    "# Перетасуем бакеты для случайности и объединим данные в одну таблицу\n",
    "control_group['BUCKET'] = np.random.permutation(control_group['BUCKET'])\n",
    "variant_group['BUCKET'] = np.random.permutation(variant_group['BUCKET'])\n",
    "bucket_data = pd.concat([control_group, variant_group])\n",
    "bucket_data"
   ]
  },
  {
   "cell_type": "code",
   "execution_count": 12,
   "id": "a0a39b69",
   "metadata": {
    "scrolled": false
   },
   "outputs": [
    {
     "data": {
      "text/html": [
       "<div>\n",
       "<style scoped>\n",
       "    .dataframe tbody tr th:only-of-type {\n",
       "        vertical-align: middle;\n",
       "    }\n",
       "\n",
       "    .dataframe tbody tr th {\n",
       "        vertical-align: top;\n",
       "    }\n",
       "\n",
       "    .dataframe thead th {\n",
       "        text-align: right;\n",
       "    }\n",
       "</style>\n",
       "<table border=\"1\" class=\"dataframe\">\n",
       "  <thead>\n",
       "    <tr style=\"text-align: right;\">\n",
       "      <th></th>\n",
       "      <th>VARIANT_NAME</th>\n",
       "      <th>BUCKET</th>\n",
       "      <th>AVERAGE_REVENUE</th>\n",
       "    </tr>\n",
       "  </thead>\n",
       "  <tbody>\n",
       "    <tr>\n",
       "      <th>0</th>\n",
       "      <td>control</td>\n",
       "      <td>1</td>\n",
       "      <td>0.0000</td>\n",
       "    </tr>\n",
       "    <tr>\n",
       "      <th>1</th>\n",
       "      <td>control</td>\n",
       "      <td>2</td>\n",
       "      <td>0.0716</td>\n",
       "    </tr>\n",
       "    <tr>\n",
       "      <th>2</th>\n",
       "      <td>control</td>\n",
       "      <td>3</td>\n",
       "      <td>0.0990</td>\n",
       "    </tr>\n",
       "    <tr>\n",
       "      <th>3</th>\n",
       "      <td>control</td>\n",
       "      <td>4</td>\n",
       "      <td>0.2814</td>\n",
       "    </tr>\n",
       "    <tr>\n",
       "      <th>4</th>\n",
       "      <td>control</td>\n",
       "      <td>5</td>\n",
       "      <td>0.0000</td>\n",
       "    </tr>\n",
       "    <tr>\n",
       "      <th>...</th>\n",
       "      <td>...</td>\n",
       "      <td>...</td>\n",
       "      <td>...</td>\n",
       "    </tr>\n",
       "    <tr>\n",
       "      <th>195</th>\n",
       "      <td>variant</td>\n",
       "      <td>96</td>\n",
       "      <td>0.0214</td>\n",
       "    </tr>\n",
       "    <tr>\n",
       "      <th>196</th>\n",
       "      <td>variant</td>\n",
       "      <td>97</td>\n",
       "      <td>0.0000</td>\n",
       "    </tr>\n",
       "    <tr>\n",
       "      <th>197</th>\n",
       "      <td>variant</td>\n",
       "      <td>98</td>\n",
       "      <td>0.0250</td>\n",
       "    </tr>\n",
       "    <tr>\n",
       "      <th>198</th>\n",
       "      <td>variant</td>\n",
       "      <td>99</td>\n",
       "      <td>0.0200</td>\n",
       "    </tr>\n",
       "    <tr>\n",
       "      <th>199</th>\n",
       "      <td>variant</td>\n",
       "      <td>100</td>\n",
       "      <td>0.0000</td>\n",
       "    </tr>\n",
       "  </tbody>\n",
       "</table>\n",
       "<p>200 rows × 3 columns</p>\n",
       "</div>"
      ],
      "text/plain": [
       "    VARIANT_NAME  BUCKET  AVERAGE_REVENUE\n",
       "0        control       1           0.0000\n",
       "1        control       2           0.0716\n",
       "2        control       3           0.0990\n",
       "3        control       4           0.2814\n",
       "4        control       5           0.0000\n",
       "..           ...     ...              ...\n",
       "195      variant      96           0.0214\n",
       "196      variant      97           0.0000\n",
       "197      variant      98           0.0250\n",
       "198      variant      99           0.0200\n",
       "199      variant     100           0.0000\n",
       "\n",
       "[200 rows x 3 columns]"
      ]
     },
     "execution_count": 12,
     "metadata": {},
     "output_type": "execute_result"
    }
   ],
   "source": [
    "# Расчитаем среднюю выручу по бакетам в каждой группе\n",
    "bucket_means = bucket_data.groupby(['VARIANT_NAME', 'BUCKET'])['REVENUE'].mean().reset_index()\n",
    "bucket_means = bucket_means.rename(columns={'REVENUE': 'AVERAGE_REVENUE'})\n",
    "bucket_means"
   ]
  },
  {
   "cell_type": "markdown",
   "id": "ce6e77e0",
   "metadata": {},
   "source": [
    "Распределение новых значений уже подчиняется центральной предельной теореме, а значит, стремится к нормальному."
   ]
  },
  {
   "cell_type": "markdown",
   "id": "bed12068",
   "metadata": {},
   "source": [
    "## Реализация статистического теста\n",
    "Наконец, можно проводить статистический тест! Сначала выдвенем гипотезу: \n",
    "\n",
    "- $H_0: \\mu_1 - \\mu_2 = 0$\n",
    "- $H_1: \\mu_1 - \\mu_2 \\neq 0$ \n",
    "- Уровень значимости (он же допустимая вероятность ошибки первого рода): $\\alpha = 0.05$"
   ]
  },
  {
   "cell_type": "code",
   "execution_count": 13,
   "id": "24783fa9",
   "metadata": {},
   "outputs": [
    {
     "name": "stdout",
     "output_type": "stream",
     "text": [
      "Среднее значение в контрольной группе: 0.08978155102040813\n",
      "Стандартное отклонение в контрольной группе: 0.15388409099671158\n",
      "Среднее значение в тестовой группе: 0.04698207843137255\n",
      "Стандартное отклонение в тестовой группе: 0.10143029412367204\n"
     ]
    }
   ],
   "source": [
    "# Проведем расчет средних значений и стандартных отклонений в группах по бакетам\n",
    "control_mean = np.mean(bucket_means[bucket_means['VARIANT_NAME'] == 'control']['AVERAGE_REVENUE'])\n",
    "control_std = np.std(bucket_means[bucket_means['VARIANT_NAME'] == 'control']['AVERAGE_REVENUE'])\n",
    "variant_mean = np.mean(bucket_means[bucket_means['VARIANT_NAME'] == 'variant']['AVERAGE_REVENUE'])\n",
    "variant_std = np.std(bucket_means[bucket_means['VARIANT_NAME'] == 'variant']['AVERAGE_REVENUE'])\n",
    "\n",
    "print(f'Среднее значение в контрольной группе: {control_mean}')\n",
    "print(f'Стандартное отклонение в контрольной группе: {control_std}')\n",
    "print(f'Среднее значение в тестовой группе: {variant_mean}')\n",
    "print(f'Стандартное отклонение в тестовой группе: {variant_std}')"
   ]
  },
  {
   "cell_type": "code",
   "execution_count": 14,
   "id": "abe03311",
   "metadata": {},
   "outputs": [
    {
     "name": "stdout",
     "output_type": "stream",
     "text": [
      "P-значение составляет: 0.02139778030670514\n"
     ]
    }
   ],
   "source": [
    "# Вычислим оценку стандартной ошибки среднего\n",
    "ese = np.sqrt((control_std**2 / bucket_number) + (variant_std**2 / bucket_number))\n",
    "\n",
    "# Посчитаем t-статистику\n",
    "t_statistic = (control_mean - variant_mean) / ese\n",
    "\n",
    "# Далее рассчитаем степени свободы по упрощенной формуле\n",
    "df = ((bucket_number - 1) * (control_std**2 + variant_std**2)**2) / (control_std**4 + variant_std**4)\n",
    "\n",
    "# И наконец, найдем p-value\n",
    "p_value = 2 * (1 - sp.stats.t.cdf(abs(t_statistic), df=df))\n",
    "print(f'P-значение составляет: {p_value}')"
   ]
  },
  {
   "cell_type": "markdown",
   "id": "9fc359b7",
   "metadata": {},
   "source": [
    "## Интерпритация результатов\n",
    "_P-значение_ __оказалось ниже__ предварительно выбранного уровня значимости. Это говорит о том, что у нас есть достаточно оснований для того, чтобы __отклонить нулевую гипотезу__. Таким образом, статистический анализ подтверждает __наличие статистически значимых изменений__. Это не случайность, а скорее отражение реальных различий между группами. Красный тест дает нам явные показания о том, что мы наблюдаем статистически значимое __снижение в метрике__. \\\n",
    "Исходя из этого, развертывание тестируемой функции __явно стоит откложить__, так как изменения довольно вероятно приведут к нежелательному снижению выручки.\n",
    "\n",
    "Рекомендуется провести более подробный анализ результатов теста. Полезно будет изучить конкретные аспекты и факторы, которые могли повлиять на данное снижение метрики. Это позволит более точно понять, какие именно особенности изменений привели к негативным результатам."
   ]
  }
 ],
 "metadata": {
  "kernelspec": {
   "display_name": "Python 3 (ipykernel)",
   "language": "python",
   "name": "python3"
  },
  "language_info": {
   "codemirror_mode": {
    "name": "ipython",
    "version": 3
   },
   "file_extension": ".py",
   "mimetype": "text/x-python",
   "name": "python",
   "nbconvert_exporter": "python",
   "pygments_lexer": "ipython3",
   "version": "3.9.13"
  }
 },
 "nbformat": 4,
 "nbformat_minor": 5
}
